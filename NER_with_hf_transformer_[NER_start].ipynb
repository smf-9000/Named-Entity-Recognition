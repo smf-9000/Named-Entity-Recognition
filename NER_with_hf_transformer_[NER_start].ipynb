{
  "nbformat": 4,
  "nbformat_minor": 0,
  "metadata": {
    "colab": {
      "name": "NER-with-hf-transformer-[NER-start].ipynb",
      "provenance": [],
      "collapsed_sections": [],
      "authorship_tag": "ABX9TyOMgLnnO8iV+IeWjDxEQGsu",
      "include_colab_link": true
    },
    "kernelspec": {
      "name": "python3",
      "display_name": "Python 3"
    },
    "language_info": {
      "name": "python"
    },
    "accelerator": "GPU",
    "widgets": {
      "application/vnd.jupyter.widget-state+json": {
        "6b24bb2e385c4dbdb30fbdf9aa72b6d1": {
          "model_module": "@jupyter-widgets/controls",
          "model_name": "HBoxModel",
          "state": {
            "_view_name": "HBoxView",
            "_dom_classes": [],
            "_model_name": "HBoxModel",
            "_view_module": "@jupyter-widgets/controls",
            "_model_module_version": "1.5.0",
            "_view_count": null,
            "_view_module_version": "1.5.0",
            "box_style": "",
            "layout": "IPY_MODEL_aa2ea4dabf484f07a477ed8636c1d9ea",
            "_model_module": "@jupyter-widgets/controls",
            "children": [
              "IPY_MODEL_184d8291344c4ed68265854bed3118e6",
              "IPY_MODEL_c4867b0ebcc0456dbc0aeaab17e21fd8"
            ]
          }
        },
        "aa2ea4dabf484f07a477ed8636c1d9ea": {
          "model_module": "@jupyter-widgets/base",
          "model_name": "LayoutModel",
          "state": {
            "_view_name": "LayoutView",
            "grid_template_rows": null,
            "right": null,
            "justify_content": null,
            "_view_module": "@jupyter-widgets/base",
            "overflow": null,
            "_model_module_version": "1.2.0",
            "_view_count": null,
            "flex_flow": null,
            "width": null,
            "min_width": null,
            "border": null,
            "align_items": null,
            "bottom": null,
            "_model_module": "@jupyter-widgets/base",
            "top": null,
            "grid_column": null,
            "overflow_y": null,
            "overflow_x": null,
            "grid_auto_flow": null,
            "grid_area": null,
            "grid_template_columns": null,
            "flex": null,
            "_model_name": "LayoutModel",
            "justify_items": null,
            "grid_row": null,
            "max_height": null,
            "align_content": null,
            "visibility": null,
            "align_self": null,
            "height": null,
            "min_height": null,
            "padding": null,
            "grid_auto_rows": null,
            "grid_gap": null,
            "max_width": null,
            "order": null,
            "_view_module_version": "1.2.0",
            "grid_template_areas": null,
            "object_position": null,
            "object_fit": null,
            "grid_auto_columns": null,
            "margin": null,
            "display": null,
            "left": null
          }
        },
        "184d8291344c4ed68265854bed3118e6": {
          "model_module": "@jupyter-widgets/controls",
          "model_name": "FloatProgressModel",
          "state": {
            "_view_name": "ProgressView",
            "style": "IPY_MODEL_79041193bda94639836c8f2d80d4fa08",
            "_dom_classes": [],
            "description": "Downloading: 100%",
            "_model_name": "FloatProgressModel",
            "bar_style": "success",
            "max": 213450,
            "_view_module": "@jupyter-widgets/controls",
            "_model_module_version": "1.5.0",
            "value": 213450,
            "_view_count": null,
            "_view_module_version": "1.5.0",
            "orientation": "horizontal",
            "min": 0,
            "description_tooltip": null,
            "_model_module": "@jupyter-widgets/controls",
            "layout": "IPY_MODEL_0bda54209c2e4ebfb5bb996fae778129"
          }
        },
        "c4867b0ebcc0456dbc0aeaab17e21fd8": {
          "model_module": "@jupyter-widgets/controls",
          "model_name": "HTMLModel",
          "state": {
            "_view_name": "HTMLView",
            "style": "IPY_MODEL_d1400846681f4cfe868d8c7bee0ba1fb",
            "_dom_classes": [],
            "description": "",
            "_model_name": "HTMLModel",
            "placeholder": "​",
            "_view_module": "@jupyter-widgets/controls",
            "_model_module_version": "1.5.0",
            "value": " 213k/213k [00:02&lt;00:00, 88.4kB/s]",
            "_view_count": null,
            "_view_module_version": "1.5.0",
            "description_tooltip": null,
            "_model_module": "@jupyter-widgets/controls",
            "layout": "IPY_MODEL_dfb4daa21b64493fb0325819579e2be4"
          }
        },
        "79041193bda94639836c8f2d80d4fa08": {
          "model_module": "@jupyter-widgets/controls",
          "model_name": "ProgressStyleModel",
          "state": {
            "_view_name": "StyleView",
            "_model_name": "ProgressStyleModel",
            "description_width": "initial",
            "_view_module": "@jupyter-widgets/base",
            "_model_module_version": "1.5.0",
            "_view_count": null,
            "_view_module_version": "1.2.0",
            "bar_color": null,
            "_model_module": "@jupyter-widgets/controls"
          }
        },
        "0bda54209c2e4ebfb5bb996fae778129": {
          "model_module": "@jupyter-widgets/base",
          "model_name": "LayoutModel",
          "state": {
            "_view_name": "LayoutView",
            "grid_template_rows": null,
            "right": null,
            "justify_content": null,
            "_view_module": "@jupyter-widgets/base",
            "overflow": null,
            "_model_module_version": "1.2.0",
            "_view_count": null,
            "flex_flow": null,
            "width": null,
            "min_width": null,
            "border": null,
            "align_items": null,
            "bottom": null,
            "_model_module": "@jupyter-widgets/base",
            "top": null,
            "grid_column": null,
            "overflow_y": null,
            "overflow_x": null,
            "grid_auto_flow": null,
            "grid_area": null,
            "grid_template_columns": null,
            "flex": null,
            "_model_name": "LayoutModel",
            "justify_items": null,
            "grid_row": null,
            "max_height": null,
            "align_content": null,
            "visibility": null,
            "align_self": null,
            "height": null,
            "min_height": null,
            "padding": null,
            "grid_auto_rows": null,
            "grid_gap": null,
            "max_width": null,
            "order": null,
            "_view_module_version": "1.2.0",
            "grid_template_areas": null,
            "object_position": null,
            "object_fit": null,
            "grid_auto_columns": null,
            "margin": null,
            "display": null,
            "left": null
          }
        },
        "d1400846681f4cfe868d8c7bee0ba1fb": {
          "model_module": "@jupyter-widgets/controls",
          "model_name": "DescriptionStyleModel",
          "state": {
            "_view_name": "StyleView",
            "_model_name": "DescriptionStyleModel",
            "description_width": "",
            "_view_module": "@jupyter-widgets/base",
            "_model_module_version": "1.5.0",
            "_view_count": null,
            "_view_module_version": "1.2.0",
            "_model_module": "@jupyter-widgets/controls"
          }
        },
        "dfb4daa21b64493fb0325819579e2be4": {
          "model_module": "@jupyter-widgets/base",
          "model_name": "LayoutModel",
          "state": {
            "_view_name": "LayoutView",
            "grid_template_rows": null,
            "right": null,
            "justify_content": null,
            "_view_module": "@jupyter-widgets/base",
            "overflow": null,
            "_model_module_version": "1.2.0",
            "_view_count": null,
            "flex_flow": null,
            "width": null,
            "min_width": null,
            "border": null,
            "align_items": null,
            "bottom": null,
            "_model_module": "@jupyter-widgets/base",
            "top": null,
            "grid_column": null,
            "overflow_y": null,
            "overflow_x": null,
            "grid_auto_flow": null,
            "grid_area": null,
            "grid_template_columns": null,
            "flex": null,
            "_model_name": "LayoutModel",
            "justify_items": null,
            "grid_row": null,
            "max_height": null,
            "align_content": null,
            "visibility": null,
            "align_self": null,
            "height": null,
            "min_height": null,
            "padding": null,
            "grid_auto_rows": null,
            "grid_gap": null,
            "max_width": null,
            "order": null,
            "_view_module_version": "1.2.0",
            "grid_template_areas": null,
            "object_position": null,
            "object_fit": null,
            "grid_auto_columns": null,
            "margin": null,
            "display": null,
            "left": null
          }
        },
        "773b65f397a748458547b3b1620fcf31": {
          "model_module": "@jupyter-widgets/controls",
          "model_name": "HBoxModel",
          "state": {
            "_view_name": "HBoxView",
            "_dom_classes": [],
            "_model_name": "HBoxModel",
            "_view_module": "@jupyter-widgets/controls",
            "_model_module_version": "1.5.0",
            "_view_count": null,
            "_view_module_version": "1.5.0",
            "box_style": "",
            "layout": "IPY_MODEL_6ba33b0f6187435186b0816dc3fff463",
            "_model_module": "@jupyter-widgets/controls",
            "children": [
              "IPY_MODEL_815245e55f18402ea3e0f9a6b8e34577",
              "IPY_MODEL_2dc3ffacc03f437cb0cc6238a0a351fd"
            ]
          }
        },
        "6ba33b0f6187435186b0816dc3fff463": {
          "model_module": "@jupyter-widgets/base",
          "model_name": "LayoutModel",
          "state": {
            "_view_name": "LayoutView",
            "grid_template_rows": null,
            "right": null,
            "justify_content": null,
            "_view_module": "@jupyter-widgets/base",
            "overflow": null,
            "_model_module_version": "1.2.0",
            "_view_count": null,
            "flex_flow": null,
            "width": null,
            "min_width": null,
            "border": null,
            "align_items": null,
            "bottom": null,
            "_model_module": "@jupyter-widgets/base",
            "top": null,
            "grid_column": null,
            "overflow_y": null,
            "overflow_x": null,
            "grid_auto_flow": null,
            "grid_area": null,
            "grid_template_columns": null,
            "flex": null,
            "_model_name": "LayoutModel",
            "justify_items": null,
            "grid_row": null,
            "max_height": null,
            "align_content": null,
            "visibility": null,
            "align_self": null,
            "height": null,
            "min_height": null,
            "padding": null,
            "grid_auto_rows": null,
            "grid_gap": null,
            "max_width": null,
            "order": null,
            "_view_module_version": "1.2.0",
            "grid_template_areas": null,
            "object_position": null,
            "object_fit": null,
            "grid_auto_columns": null,
            "margin": null,
            "display": null,
            "left": null
          }
        },
        "815245e55f18402ea3e0f9a6b8e34577": {
          "model_module": "@jupyter-widgets/controls",
          "model_name": "FloatProgressModel",
          "state": {
            "_view_name": "ProgressView",
            "style": "IPY_MODEL_79d3f59ae9f54c19aaf989e1aa31546f",
            "_dom_classes": [],
            "description": "Downloading: 100%",
            "_model_name": "FloatProgressModel",
            "bar_style": "success",
            "max": 435797,
            "_view_module": "@jupyter-widgets/controls",
            "_model_module_version": "1.5.0",
            "value": 435797,
            "_view_count": null,
            "_view_module_version": "1.5.0",
            "orientation": "horizontal",
            "min": 0,
            "description_tooltip": null,
            "_model_module": "@jupyter-widgets/controls",
            "layout": "IPY_MODEL_782feaddca7647a89cdaffc24cf4d1e2"
          }
        },
        "2dc3ffacc03f437cb0cc6238a0a351fd": {
          "model_module": "@jupyter-widgets/controls",
          "model_name": "HTMLModel",
          "state": {
            "_view_name": "HTMLView",
            "style": "IPY_MODEL_b70f65f057cd4d168cd87ba993e25a1a",
            "_dom_classes": [],
            "description": "",
            "_model_name": "HTMLModel",
            "placeholder": "​",
            "_view_module": "@jupyter-widgets/controls",
            "_model_module_version": "1.5.0",
            "value": " 436k/436k [00:01&lt;00:00, 322kB/s]",
            "_view_count": null,
            "_view_module_version": "1.5.0",
            "description_tooltip": null,
            "_model_module": "@jupyter-widgets/controls",
            "layout": "IPY_MODEL_64e5e713e920416593f07648f6464c4f"
          }
        },
        "79d3f59ae9f54c19aaf989e1aa31546f": {
          "model_module": "@jupyter-widgets/controls",
          "model_name": "ProgressStyleModel",
          "state": {
            "_view_name": "StyleView",
            "_model_name": "ProgressStyleModel",
            "description_width": "initial",
            "_view_module": "@jupyter-widgets/base",
            "_model_module_version": "1.5.0",
            "_view_count": null,
            "_view_module_version": "1.2.0",
            "bar_color": null,
            "_model_module": "@jupyter-widgets/controls"
          }
        },
        "782feaddca7647a89cdaffc24cf4d1e2": {
          "model_module": "@jupyter-widgets/base",
          "model_name": "LayoutModel",
          "state": {
            "_view_name": "LayoutView",
            "grid_template_rows": null,
            "right": null,
            "justify_content": null,
            "_view_module": "@jupyter-widgets/base",
            "overflow": null,
            "_model_module_version": "1.2.0",
            "_view_count": null,
            "flex_flow": null,
            "width": null,
            "min_width": null,
            "border": null,
            "align_items": null,
            "bottom": null,
            "_model_module": "@jupyter-widgets/base",
            "top": null,
            "grid_column": null,
            "overflow_y": null,
            "overflow_x": null,
            "grid_auto_flow": null,
            "grid_area": null,
            "grid_template_columns": null,
            "flex": null,
            "_model_name": "LayoutModel",
            "justify_items": null,
            "grid_row": null,
            "max_height": null,
            "align_content": null,
            "visibility": null,
            "align_self": null,
            "height": null,
            "min_height": null,
            "padding": null,
            "grid_auto_rows": null,
            "grid_gap": null,
            "max_width": null,
            "order": null,
            "_view_module_version": "1.2.0",
            "grid_template_areas": null,
            "object_position": null,
            "object_fit": null,
            "grid_auto_columns": null,
            "margin": null,
            "display": null,
            "left": null
          }
        },
        "b70f65f057cd4d168cd87ba993e25a1a": {
          "model_module": "@jupyter-widgets/controls",
          "model_name": "DescriptionStyleModel",
          "state": {
            "_view_name": "StyleView",
            "_model_name": "DescriptionStyleModel",
            "description_width": "",
            "_view_module": "@jupyter-widgets/base",
            "_model_module_version": "1.5.0",
            "_view_count": null,
            "_view_module_version": "1.2.0",
            "_model_module": "@jupyter-widgets/controls"
          }
        },
        "64e5e713e920416593f07648f6464c4f": {
          "model_module": "@jupyter-widgets/base",
          "model_name": "LayoutModel",
          "state": {
            "_view_name": "LayoutView",
            "grid_template_rows": null,
            "right": null,
            "justify_content": null,
            "_view_module": "@jupyter-widgets/base",
            "overflow": null,
            "_model_module_version": "1.2.0",
            "_view_count": null,
            "flex_flow": null,
            "width": null,
            "min_width": null,
            "border": null,
            "align_items": null,
            "bottom": null,
            "_model_module": "@jupyter-widgets/base",
            "top": null,
            "grid_column": null,
            "overflow_y": null,
            "overflow_x": null,
            "grid_auto_flow": null,
            "grid_area": null,
            "grid_template_columns": null,
            "flex": null,
            "_model_name": "LayoutModel",
            "justify_items": null,
            "grid_row": null,
            "max_height": null,
            "align_content": null,
            "visibility": null,
            "align_self": null,
            "height": null,
            "min_height": null,
            "padding": null,
            "grid_auto_rows": null,
            "grid_gap": null,
            "max_width": null,
            "order": null,
            "_view_module_version": "1.2.0",
            "grid_template_areas": null,
            "object_position": null,
            "object_fit": null,
            "grid_auto_columns": null,
            "margin": null,
            "display": null,
            "left": null
          }
        },
        "cb8fc2935b7649d29f3d16fb00f0410a": {
          "model_module": "@jupyter-widgets/controls",
          "model_name": "HBoxModel",
          "state": {
            "_view_name": "HBoxView",
            "_dom_classes": [],
            "_model_name": "HBoxModel",
            "_view_module": "@jupyter-widgets/controls",
            "_model_module_version": "1.5.0",
            "_view_count": null,
            "_view_module_version": "1.5.0",
            "box_style": "",
            "layout": "IPY_MODEL_bbdafedacd194e5482cd7640661af056",
            "_model_module": "@jupyter-widgets/controls",
            "children": [
              "IPY_MODEL_5d83e06af1b74cf8bd7649106433a8ea",
              "IPY_MODEL_dcaffa0718574f41adb7a2a918101e38"
            ]
          }
        },
        "bbdafedacd194e5482cd7640661af056": {
          "model_module": "@jupyter-widgets/base",
          "model_name": "LayoutModel",
          "state": {
            "_view_name": "LayoutView",
            "grid_template_rows": null,
            "right": null,
            "justify_content": null,
            "_view_module": "@jupyter-widgets/base",
            "overflow": null,
            "_model_module_version": "1.2.0",
            "_view_count": null,
            "flex_flow": null,
            "width": null,
            "min_width": null,
            "border": null,
            "align_items": null,
            "bottom": null,
            "_model_module": "@jupyter-widgets/base",
            "top": null,
            "grid_column": null,
            "overflow_y": null,
            "overflow_x": null,
            "grid_auto_flow": null,
            "grid_area": null,
            "grid_template_columns": null,
            "flex": null,
            "_model_name": "LayoutModel",
            "justify_items": null,
            "grid_row": null,
            "max_height": null,
            "align_content": null,
            "visibility": null,
            "align_self": null,
            "height": null,
            "min_height": null,
            "padding": null,
            "grid_auto_rows": null,
            "grid_gap": null,
            "max_width": null,
            "order": null,
            "_view_module_version": "1.2.0",
            "grid_template_areas": null,
            "object_position": null,
            "object_fit": null,
            "grid_auto_columns": null,
            "margin": null,
            "display": null,
            "left": null
          }
        },
        "5d83e06af1b74cf8bd7649106433a8ea": {
          "model_module": "@jupyter-widgets/controls",
          "model_name": "FloatProgressModel",
          "state": {
            "_view_name": "ProgressView",
            "style": "IPY_MODEL_5f5cdd5fce0c479eae8579f462da14dd",
            "_dom_classes": [],
            "description": "Downloading: 100%",
            "_model_name": "FloatProgressModel",
            "bar_style": "success",
            "max": 29,
            "_view_module": "@jupyter-widgets/controls",
            "_model_module_version": "1.5.0",
            "value": 29,
            "_view_count": null,
            "_view_module_version": "1.5.0",
            "orientation": "horizontal",
            "min": 0,
            "description_tooltip": null,
            "_model_module": "@jupyter-widgets/controls",
            "layout": "IPY_MODEL_e5b5ba50f51f4cdd8d7ab3f0a10a9907"
          }
        },
        "dcaffa0718574f41adb7a2a918101e38": {
          "model_module": "@jupyter-widgets/controls",
          "model_name": "HTMLModel",
          "state": {
            "_view_name": "HTMLView",
            "style": "IPY_MODEL_b4bf107eeba646d5abaaefaa8d420136",
            "_dom_classes": [],
            "description": "",
            "_model_name": "HTMLModel",
            "placeholder": "​",
            "_view_module": "@jupyter-widgets/controls",
            "_model_module_version": "1.5.0",
            "value": " 29.0/29.0 [00:00&lt;00:00, 91.2B/s]",
            "_view_count": null,
            "_view_module_version": "1.5.0",
            "description_tooltip": null,
            "_model_module": "@jupyter-widgets/controls",
            "layout": "IPY_MODEL_80c74c6995c64a538d078935f8a9bd17"
          }
        },
        "5f5cdd5fce0c479eae8579f462da14dd": {
          "model_module": "@jupyter-widgets/controls",
          "model_name": "ProgressStyleModel",
          "state": {
            "_view_name": "StyleView",
            "_model_name": "ProgressStyleModel",
            "description_width": "initial",
            "_view_module": "@jupyter-widgets/base",
            "_model_module_version": "1.5.0",
            "_view_count": null,
            "_view_module_version": "1.2.0",
            "bar_color": null,
            "_model_module": "@jupyter-widgets/controls"
          }
        },
        "e5b5ba50f51f4cdd8d7ab3f0a10a9907": {
          "model_module": "@jupyter-widgets/base",
          "model_name": "LayoutModel",
          "state": {
            "_view_name": "LayoutView",
            "grid_template_rows": null,
            "right": null,
            "justify_content": null,
            "_view_module": "@jupyter-widgets/base",
            "overflow": null,
            "_model_module_version": "1.2.0",
            "_view_count": null,
            "flex_flow": null,
            "width": null,
            "min_width": null,
            "border": null,
            "align_items": null,
            "bottom": null,
            "_model_module": "@jupyter-widgets/base",
            "top": null,
            "grid_column": null,
            "overflow_y": null,
            "overflow_x": null,
            "grid_auto_flow": null,
            "grid_area": null,
            "grid_template_columns": null,
            "flex": null,
            "_model_name": "LayoutModel",
            "justify_items": null,
            "grid_row": null,
            "max_height": null,
            "align_content": null,
            "visibility": null,
            "align_self": null,
            "height": null,
            "min_height": null,
            "padding": null,
            "grid_auto_rows": null,
            "grid_gap": null,
            "max_width": null,
            "order": null,
            "_view_module_version": "1.2.0",
            "grid_template_areas": null,
            "object_position": null,
            "object_fit": null,
            "grid_auto_columns": null,
            "margin": null,
            "display": null,
            "left": null
          }
        },
        "b4bf107eeba646d5abaaefaa8d420136": {
          "model_module": "@jupyter-widgets/controls",
          "model_name": "DescriptionStyleModel",
          "state": {
            "_view_name": "StyleView",
            "_model_name": "DescriptionStyleModel",
            "description_width": "",
            "_view_module": "@jupyter-widgets/base",
            "_model_module_version": "1.5.0",
            "_view_count": null,
            "_view_module_version": "1.2.0",
            "_model_module": "@jupyter-widgets/controls"
          }
        },
        "80c74c6995c64a538d078935f8a9bd17": {
          "model_module": "@jupyter-widgets/base",
          "model_name": "LayoutModel",
          "state": {
            "_view_name": "LayoutView",
            "grid_template_rows": null,
            "right": null,
            "justify_content": null,
            "_view_module": "@jupyter-widgets/base",
            "overflow": null,
            "_model_module_version": "1.2.0",
            "_view_count": null,
            "flex_flow": null,
            "width": null,
            "min_width": null,
            "border": null,
            "align_items": null,
            "bottom": null,
            "_model_module": "@jupyter-widgets/base",
            "top": null,
            "grid_column": null,
            "overflow_y": null,
            "overflow_x": null,
            "grid_auto_flow": null,
            "grid_area": null,
            "grid_template_columns": null,
            "flex": null,
            "_model_name": "LayoutModel",
            "justify_items": null,
            "grid_row": null,
            "max_height": null,
            "align_content": null,
            "visibility": null,
            "align_self": null,
            "height": null,
            "min_height": null,
            "padding": null,
            "grid_auto_rows": null,
            "grid_gap": null,
            "max_width": null,
            "order": null,
            "_view_module_version": "1.2.0",
            "grid_template_areas": null,
            "object_position": null,
            "object_fit": null,
            "grid_auto_columns": null,
            "margin": null,
            "display": null,
            "left": null
          }
        }
      }
    }
  },
  "cells": [
    {
      "cell_type": "markdown",
      "metadata": {
        "id": "view-in-github",
        "colab_type": "text"
      },
      "source": [
        "<a href=\"https://colab.research.google.com/github/smf-9000/Named-Entity-Recognition/blob/main/NER_with_hf_transformer_%5BNER_start%5D.ipynb\" target=\"_parent\"><img src=\"https://colab.research.google.com/assets/colab-badge.svg\" alt=\"Open In Colab\"/></a>"
      ]
    },
    {
      "cell_type": "code",
      "metadata": {
        "id": "xX0_Skp_VK4W"
      },
      "source": [
        "!pip install pandas transformers"
      ],
      "execution_count": null,
      "outputs": []
    },
    {
      "cell_type": "code",
      "metadata": {
        "colab": {
          "base_uri": "https://localhost:8080/"
        },
        "id": "m7AA2ZZQOGM6",
        "outputId": "cf8239a0-8aa4-4c24-d00c-355abd6e22bd"
      },
      "source": [
        "! wget http://noisy-text.github.io/2017/files/wnut17train.conll"
      ],
      "execution_count": 2,
      "outputs": [
        {
          "output_type": "stream",
          "text": [
            "--2021-07-05 16:18:12--  http://noisy-text.github.io/2017/files/wnut17train.conll\n",
            "Resolving noisy-text.github.io (noisy-text.github.io)... 185.199.109.153, 185.199.108.153, 185.199.111.153, ...\n",
            "Connecting to noisy-text.github.io (noisy-text.github.io)|185.199.109.153|:80... connected.\n",
            "HTTP request sent, awaiting response... 200 OK\n",
            "Length: 493781 (482K) [application/octet-stream]\n",
            "Saving to: ‘wnut17train.conll’\n",
            "\n",
            "\rwnut17train.conll     0%[                    ]       0  --.-KB/s               \rwnut17train.conll   100%[===================>] 482.21K  --.-KB/s    in 0.03s   \n",
            "\n",
            "2021-07-05 16:18:13 (18.5 MB/s) - ‘wnut17train.conll’ saved [493781/493781]\n",
            "\n"
          ],
          "name": "stdout"
        }
      ]
    },
    {
      "cell_type": "code",
      "metadata": {
        "id": "--nuOAJiPO99"
      },
      "source": [
        "from pathlib import Path\n",
        "import re\n"
      ],
      "execution_count": 3,
      "outputs": []
    },
    {
      "cell_type": "code",
      "metadata": {
        "colab": {
          "base_uri": "https://localhost:8080/"
        },
        "id": "w6KCQYCmPRmG",
        "outputId": "e49cd75a-d6a6-4027-aa48-3ba60826a279"
      },
      "source": [
        "file_path = Path(\"/content/wnut17train.conll\")\n",
        "raw_text = file_path.read_text().strip()\n",
        "raw_docs = re.split(r'\\n\\t?\\n', raw_text)\n",
        "\n",
        "token_docs = []\n",
        "tag_docs = []\n",
        "for doc in raw_docs:\n",
        "  tokens = []\n",
        "  tags = []\n",
        "  for line in doc.split('\\n'):\n",
        "    token, tag = line.split('\\t')\n",
        "    tokens.append(token)\n",
        "    tags.append(tag)\n",
        "  token_docs.append(tokens)\n",
        "  tag_docs.append(tags)\n",
        "\n",
        "print(token_docs[0])\n",
        "print(tag_docs[0])"
      ],
      "execution_count": 4,
      "outputs": [
        {
          "output_type": "stream",
          "text": [
            "['@paulwalk', 'It', \"'s\", 'the', 'view', 'from', 'where', 'I', \"'m\", 'living', 'for', 'two', 'weeks', '.', 'Empire', 'State', 'Building', '=', 'ESB', '.', 'Pretty', 'bad', 'storm', 'here', 'last', 'evening', '.']\n",
            "['O', 'O', 'O', 'O', 'O', 'O', 'O', 'O', 'O', 'O', 'O', 'O', 'O', 'O', 'B-location', 'I-location', 'I-location', 'O', 'B-location', 'O', 'O', 'O', 'O', 'O', 'O', 'O', 'O']\n"
          ],
          "name": "stdout"
        }
      ]
    },
    {
      "cell_type": "code",
      "metadata": {
        "id": "3cnOCHz8R7Qn"
      },
      "source": [
        "from sklearn.model_selection import train_test_split\n",
        "train_texts, val_texts, train_tags, val_tags = train_test_split(token_docs, tag_docs, test_size=.2)"
      ],
      "execution_count": 5,
      "outputs": []
    },
    {
      "cell_type": "markdown",
      "metadata": {
        "id": "YjbttPqCSa1P"
      },
      "source": [
        "## encodings for our tokens and tags"
      ]
    },
    {
      "cell_type": "code",
      "metadata": {
        "id": "JqQYYYENSWFV"
      },
      "source": [
        "unique_tags = set(tag for doc in tag_docs for tag in doc)\n",
        "tag2id = {tag: id for id, tag in enumerate(unique_tags)}\n",
        "id2tag = {id: tag for tag, id in tag2id.items()}\n",
        "\n",
        "# print(tag2id)\n",
        "# print(id2tag)"
      ],
      "execution_count": 6,
      "outputs": []
    },
    {
      "cell_type": "code",
      "metadata": {
        "colab": {
          "base_uri": "https://localhost:8080/"
        },
        "id": "nE4M5YmMfOSC",
        "outputId": "44e8661a-1d70-4c27-fad9-2f5e75c4d3a3"
      },
      "source": [
        "id2tag"
      ],
      "execution_count": 28,
      "outputs": [
        {
          "output_type": "execute_result",
          "data": {
            "text/plain": [
              "{0: 'I-location',\n",
              " 1: 'B-group',\n",
              " 2: 'B-location',\n",
              " 3: 'B-creative-work',\n",
              " 4: 'I-product',\n",
              " 5: 'I-creative-work',\n",
              " 6: 'B-product',\n",
              " 7: 'I-corporation',\n",
              " 8: 'I-group',\n",
              " 9: 'B-corporation',\n",
              " 10: 'O',\n",
              " 11: 'B-person',\n",
              " 12: 'I-person'}"
            ]
          },
          "metadata": {
            "tags": []
          },
          "execution_count": 28
        }
      ]
    },
    {
      "cell_type": "code",
      "metadata": {
        "colab": {
          "base_uri": "https://localhost:8080/",
          "height": 164,
          "referenced_widgets": [
            "6b24bb2e385c4dbdb30fbdf9aa72b6d1",
            "aa2ea4dabf484f07a477ed8636c1d9ea",
            "184d8291344c4ed68265854bed3118e6",
            "c4867b0ebcc0456dbc0aeaab17e21fd8",
            "79041193bda94639836c8f2d80d4fa08",
            "0bda54209c2e4ebfb5bb996fae778129",
            "d1400846681f4cfe868d8c7bee0ba1fb",
            "dfb4daa21b64493fb0325819579e2be4",
            "773b65f397a748458547b3b1620fcf31",
            "6ba33b0f6187435186b0816dc3fff463",
            "815245e55f18402ea3e0f9a6b8e34577",
            "2dc3ffacc03f437cb0cc6238a0a351fd",
            "79d3f59ae9f54c19aaf989e1aa31546f",
            "782feaddca7647a89cdaffc24cf4d1e2",
            "b70f65f057cd4d168cd87ba993e25a1a",
            "64e5e713e920416593f07648f6464c4f",
            "cb8fc2935b7649d29f3d16fb00f0410a",
            "bbdafedacd194e5482cd7640661af056",
            "5d83e06af1b74cf8bd7649106433a8ea",
            "dcaffa0718574f41adb7a2a918101e38",
            "5f5cdd5fce0c479eae8579f462da14dd",
            "e5b5ba50f51f4cdd8d7ab3f0a10a9907",
            "b4bf107eeba646d5abaaefaa8d420136",
            "80c74c6995c64a538d078935f8a9bd17"
          ]
        },
        "id": "5C5r2bSnUSMH",
        "outputId": "d11e61a2-60b1-4b91-83f2-e149bd0f0810"
      },
      "source": [
        "from transformers import DistilBertTokenizerFast\n",
        "\n",
        "tokenizer = DistilBertTokenizerFast.from_pretrained('distilbert-base-cased')\n",
        "train_encodings = tokenizer(train_texts, is_split_into_words=True, return_offsets_mapping=True, padding=True, truncation=True)\n",
        "val_encodings = tokenizer(val_texts, is_split_into_words=True, return_offsets_mapping=True, padding=True, truncation=True)"
      ],
      "execution_count": 7,
      "outputs": [
        {
          "output_type": "display_data",
          "data": {
            "application/vnd.jupyter.widget-view+json": {
              "model_id": "6b24bb2e385c4dbdb30fbdf9aa72b6d1",
              "version_minor": 0,
              "version_major": 2
            },
            "text/plain": [
              "HBox(children=(FloatProgress(value=0.0, description='Downloading', max=213450.0, style=ProgressStyle(descripti…"
            ]
          },
          "metadata": {
            "tags": []
          }
        },
        {
          "output_type": "stream",
          "text": [
            "\n"
          ],
          "name": "stdout"
        },
        {
          "output_type": "display_data",
          "data": {
            "application/vnd.jupyter.widget-view+json": {
              "model_id": "773b65f397a748458547b3b1620fcf31",
              "version_minor": 0,
              "version_major": 2
            },
            "text/plain": [
              "HBox(children=(FloatProgress(value=0.0, description='Downloading', max=435797.0, style=ProgressStyle(descripti…"
            ]
          },
          "metadata": {
            "tags": []
          }
        },
        {
          "output_type": "stream",
          "text": [
            "\n"
          ],
          "name": "stdout"
        },
        {
          "output_type": "display_data",
          "data": {
            "application/vnd.jupyter.widget-view+json": {
              "model_id": "cb8fc2935b7649d29f3d16fb00f0410a",
              "version_minor": 0,
              "version_major": 2
            },
            "text/plain": [
              "HBox(children=(FloatProgress(value=0.0, description='Downloading', max=29.0, style=ProgressStyle(description_w…"
            ]
          },
          "metadata": {
            "tags": []
          }
        },
        {
          "output_type": "stream",
          "text": [
            "\n"
          ],
          "name": "stdout"
        }
      ]
    },
    {
      "cell_type": "markdown",
      "metadata": {
        "id": "Cer8jtaoYi9L"
      },
      "source": [
        "\n",
        "\n",
        "```\n",
        "train_encodings={\n",
        "  'input_ids': [...],\n",
        "  'offset_mapping': [...]\n",
        "}\n",
        "```\n",
        "\n"
      ]
    },
    {
      "cell_type": "code",
      "metadata": {
        "id": "P6LurYWZYqEM"
      },
      "source": [
        "import numpy as np\n",
        "\n",
        "def encode_tags(tags, encodings):\n",
        "  labels = [[tag2id[tag] for tag in doc] for doc in tags]\n",
        "  encoded_labels = []\n",
        "  for doc_labels, doc_offset in zip(labels, encodings.offset_mapping):\n",
        "    # create an empty array of -100\n",
        "    doc_enc_labels = np.ones(len(doc_offset),dtype=int) * -100\n",
        "    arr_offset = np.array(doc_offset)\n",
        "\n",
        "    # set labels whose first offset position is 0 and the second is not 0\n",
        "    doc_enc_labels[(arr_offset[:,0] == 0) & (arr_offset[:,1] != 0)] = doc_labels\n",
        "    encoded_labels.append(doc_enc_labels.tolist())\n",
        "\n",
        "  return encoded_labels\n",
        "\n",
        "train_labels = encode_tags(train_tags, train_encodings)\n",
        "val_labels = encode_tags(val_tags, val_encodings)"
      ],
      "execution_count": 8,
      "outputs": []
    },
    {
      "cell_type": "code",
      "metadata": {
        "id": "956RTIOjcHU8"
      },
      "source": [
        "print(train_labels)"
      ],
      "execution_count": null,
      "outputs": []
    },
    {
      "cell_type": "code",
      "metadata": {
        "id": "tT2y1Zx-cXs2"
      },
      "source": [
        "import torch\n",
        "\n",
        "class WNUTDataset(torch.utils.data.Dataset):\n",
        "  def __init__(self, encodings, labels):\n",
        "    self.encodings = encodings\n",
        "    self.labels = labels\n",
        "\n",
        "  def __getitem__(self, idx):\n",
        "    item = {key: torch.tensor(val[idx]) for key, val in self.encodings.items()}\n",
        "    item['labels'] = torch.tensor(self.labels[idx])\n",
        "    return item\n",
        "\n",
        "  def __len__(self):\n",
        "    return len(self.labels)\n",
        "\n",
        "train_encodings.pop(\"offset_mapping\") # we don't want to pass this to the model\n",
        "val_encodings.pop(\"offset_mapping\")\n",
        "train_dataset = WNUTDataset(train_encodings, train_labels)\n",
        "val_dataset = WNUTDataset(val_encodings, val_labels)"
      ],
      "execution_count": 10,
      "outputs": []
    },
    {
      "cell_type": "code",
      "metadata": {
        "id": "PQnsykU4cpmI"
      },
      "source": [
        "from transformers import DistilBertForTokenClassification, Trainer, TrainingArguments\n",
        "\n",
        "model = DistilBertForTokenClassification.from_pretrained('distilbert-base-cased', num_labels=len(unique_tags))"
      ],
      "execution_count": null,
      "outputs": []
    },
    {
      "cell_type": "code",
      "metadata": {
        "id": "9YseNpZLc3a8"
      },
      "source": [
        "training_args = TrainingArguments(\n",
        "    output_dir='./results',          # output directory\n",
        "    num_train_epochs=3,              # total number of training epochs\n",
        "    per_device_train_batch_size=16,  # batch size per device during training\n",
        "    per_device_eval_batch_size=64,   # batch size for evaluation\n",
        "    warmup_steps=500,                # number of warmup steps for learning rate scheduler\n",
        "    weight_decay=0.01,               # strength of weight decay\n",
        "    logging_dir='./logs',            # directory for storing logs\n",
        "    logging_steps=10,\n",
        ")\n"
      ],
      "execution_count": 13,
      "outputs": []
    },
    {
      "cell_type": "code",
      "metadata": {
        "id": "QUmdID1Vc_ht"
      },
      "source": [
        "trainer = Trainer(\n",
        "    model=model,                         # the instantiated 🤗 Transformers model to be trained\n",
        "    args=training_args,                  # training arguments, defined above\n",
        "    train_dataset=train_dataset,         # training dataset\n",
        "    eval_dataset=val_dataset             # evaluation dataset\n",
        ")\n",
        "\n",
        "trainer.train()"
      ],
      "execution_count": null,
      "outputs": []
    },
    {
      "cell_type": "code",
      "metadata": {
        "id": "hw6-IjI0fFQA"
      },
      "source": [
        "model.eval()\n",
        "from torch.nn import functional as F"
      ],
      "execution_count": 17,
      "outputs": []
    },
    {
      "cell_type": "code",
      "metadata": {
        "colab": {
          "base_uri": "https://localhost:8080/"
        },
        "id": "VvSFAgiIe2Eu",
        "outputId": "d9e7aa42-14bc-465e-9f70-53284db3ab2c"
      },
      "source": [
        "example = 'Microsoft moved its headquarters from Bellevue to Redmond, Washington, on February 26, 1986, and went public on March 13.'\n",
        "# example = 'Microsoft released Microsoft Windows on November 20, 1985, as a graphical extension for MS-DOS'\n",
        "\n",
        "device = \"cuda:0\"\n",
        "with torch.no_grad():\n",
        "  inputs = tokenizer(example, return_tensors=\"pt\").to(device)\n",
        "  outputs = model(**inputs)\n",
        "  softmax = F.softmax(outputs[0][0], dim = 1)\n",
        "  indices = [x.argmax().item() for x in softmax]\n",
        "  input_list = inputs['input_ids'].tolist()[0]\n",
        "  # print(outputs[0][0])\n",
        "  print(softmax)\n",
        "  # print(indices)\n",
        "  # print(inputs['input_ids'].tolist()[0])\n",
        "\n",
        "  word2tokens = {x : tokenizer.encode(x, add_special_tokens=False) for x in example.split()}\n",
        "  first_token2word = {}\n",
        "\n",
        "  # I dont like this, but I'll fix it later [TODO]\n",
        "  for k, v_list in word2tokens.items():\n",
        "    for v in v_list:\n",
        "      first_token2word[v] = k\n",
        "\n",
        "  # print(word2tokens)\n",
        "  # print(first_token2word)\n",
        "\n",
        "  for i in range(len(indices)):\n",
        "    print('token: ', input_list[i], 'tag: ', id2tag[indices[i]], 'entity: ', '#' if id2tag[indices[i]] == 'O' else first_token2word[input_list[i]])"
      ],
      "execution_count": 94,
      "outputs": [
        {
          "output_type": "stream",
          "text": [
            "tensor([[5.1131e-02, 5.9880e-02, 7.1346e-02, 6.6346e-02, 7.7075e-02, 9.8168e-02,\n",
            "         5.8292e-02, 5.5508e-02, 3.2692e-02, 1.3349e-01, 2.3262e-01, 4.1489e-02,\n",
            "         2.1961e-02],\n",
            "        [1.3074e-03, 2.0459e-02, 2.2361e-02, 7.9322e-03, 9.3218e-03, 1.1592e-03,\n",
            "         2.0062e-01, 1.4653e-02, 3.2762e-03, 6.7759e-01, 3.0652e-02, 8.3924e-03,\n",
            "         2.2784e-03],\n",
            "        [4.3122e-04, 2.3136e-04, 4.3187e-04, 3.3006e-04, 4.0770e-04, 1.0055e-03,\n",
            "         2.3426e-04, 2.6266e-04, 2.0117e-04, 5.2877e-04, 9.9558e-01, 1.7242e-04,\n",
            "         1.8773e-04],\n",
            "        [6.3269e-04, 5.1025e-04, 1.4010e-03, 9.7782e-04, 1.2521e-03, 1.3198e-03,\n",
            "         9.9840e-04, 5.1457e-04, 5.3469e-04, 2.4918e-03, 9.8886e-01, 2.3907e-04,\n",
            "         2.6835e-04],\n",
            "        [8.0266e-04, 4.0940e-04, 1.4331e-03, 6.9817e-04, 8.8852e-04, 1.6783e-03,\n",
            "         8.6840e-04, 3.0953e-04, 3.8064e-04, 1.3506e-03, 9.9067e-01, 3.3401e-04,\n",
            "         1.7545e-04],\n",
            "        [1.9906e-03, 1.2123e-03, 6.9652e-03, 1.4592e-03, 1.4350e-03, 3.0704e-03,\n",
            "         1.1190e-03, 7.5693e-04, 8.6890e-04, 2.9115e-03, 9.7527e-01, 2.2791e-03,\n",
            "         6.5978e-04],\n",
            "        [5.7110e-03, 7.6111e-02, 4.3895e-01, 1.9358e-02, 3.1068e-03, 1.8111e-03,\n",
            "         4.3275e-02, 9.1844e-03, 2.5533e-03, 3.5091e-01, 1.9382e-02, 2.4863e-02,\n",
            "         4.7898e-03],\n",
            "        [5.0163e-01, 1.4737e-02, 3.7067e-02, 6.9460e-03, 2.8017e-02, 3.3606e-02,\n",
            "         7.3788e-03, 1.6586e-01, 4.7045e-02, 2.0513e-02, 6.5379e-02, 3.9999e-03,\n",
            "         6.7817e-02],\n",
            "        [3.1122e-03, 1.5317e-03, 5.7054e-03, 1.4046e-03, 1.0611e-03, 2.9126e-03,\n",
            "         1.0919e-03, 9.5640e-04, 9.0731e-04, 2.4992e-03, 9.7647e-01, 1.6322e-03,\n",
            "         7.1936e-04],\n",
            "        [1.5915e-02, 3.8114e-02, 8.6029e-01, 5.3038e-03, 1.8682e-03, 1.1826e-03,\n",
            "         8.3426e-03, 6.3866e-03, 1.7953e-03, 2.5145e-02, 2.2511e-03, 2.9692e-02,\n",
            "         3.7105e-03],\n",
            "        [7.9800e-01, 6.1872e-03, 2.0009e-02, 2.6768e-03, 1.5277e-02, 8.0229e-03,\n",
            "         4.4788e-03, 6.4528e-02, 2.2054e-02, 1.0314e-02, 1.9506e-02, 1.7083e-03,\n",
            "         2.7239e-02],\n",
            "        [1.2331e-01, 9.1778e-03, 8.2087e-02, 1.1065e-02, 1.0054e-02, 1.1277e-02,\n",
            "         1.0635e-02, 2.8354e-02, 8.5990e-03, 2.4982e-02, 6.6310e-01, 9.3816e-03,\n",
            "         7.9788e-03],\n",
            "        [1.8025e-02, 2.1655e-02, 9.1555e-01, 1.3692e-03, 1.2508e-03, 6.2571e-04,\n",
            "         2.7967e-03, 5.7059e-03, 1.3422e-03, 2.4008e-02, 2.0812e-03, 4.1001e-03,\n",
            "         1.4903e-03],\n",
            "        [4.4138e-03, 3.8981e-04, 1.9145e-03, 7.2281e-04, 1.4330e-03, 1.7323e-03,\n",
            "         7.3879e-04, 1.5184e-03, 1.3597e-03, 1.6849e-03, 9.8295e-01, 5.3853e-04,\n",
            "         5.9899e-04],\n",
            "        [2.2881e-04, 1.1707e-04, 1.7821e-04, 2.3373e-04, 1.6519e-04, 3.4858e-04,\n",
            "         1.6686e-04, 9.9987e-05, 1.0645e-04, 2.3112e-04, 9.9796e-01, 1.2324e-04,\n",
            "         4.1681e-05],\n",
            "        [1.8188e-04, 1.8424e-04, 2.9222e-04, 3.4426e-04, 1.4539e-04, 4.2585e-04,\n",
            "         1.8471e-04, 6.3634e-05, 5.5751e-05, 1.9559e-04, 9.9776e-01, 1.3112e-04,\n",
            "         3.9433e-05],\n",
            "        [9.1073e-04, 4.0609e-04, 7.7030e-04, 1.5916e-03, 8.1665e-04, 1.9234e-03,\n",
            "         5.4938e-04, 3.1862e-04, 3.6038e-04, 3.2400e-04, 9.9130e-01, 4.4274e-04,\n",
            "         2.8636e-04],\n",
            "        [7.3878e-04, 4.1214e-04, 1.0829e-03, 9.2575e-04, 3.6607e-04, 4.5349e-04,\n",
            "         3.6149e-04, 1.8975e-04, 2.0655e-04, 5.8295e-04, 9.9411e-01, 4.3613e-04,\n",
            "         1.3889e-04],\n",
            "        [3.8609e-04, 2.8890e-04, 8.8920e-04, 1.1234e-03, 9.2876e-04, 1.1331e-03,\n",
            "         1.3594e-03, 2.9395e-04, 3.5693e-04, 6.3973e-04, 9.9205e-01, 4.2199e-04,\n",
            "         1.2776e-04],\n",
            "        [2.6804e-04, 1.2443e-04, 3.9793e-04, 2.0943e-04, 1.5194e-04, 2.2055e-04,\n",
            "         1.6278e-04, 9.6966e-05, 9.8157e-05, 3.1076e-04, 9.9774e-01, 1.6366e-04,\n",
            "         5.2551e-05],\n",
            "        [1.9327e-04, 1.4700e-04, 2.0720e-04, 2.6638e-04, 2.5574e-04, 2.7906e-04,\n",
            "         2.2118e-04, 9.7694e-05, 1.1970e-04, 3.8837e-04, 9.9762e-01, 1.4691e-04,\n",
            "         5.8097e-05],\n",
            "        [1.7367e-04, 1.9907e-04, 2.6989e-04, 3.9698e-04, 3.5137e-04, 3.6700e-04,\n",
            "         2.0600e-04, 9.3052e-05, 8.7259e-05, 3.2885e-04, 9.9738e-01, 9.9801e-05,\n",
            "         4.5108e-05],\n",
            "        [3.3461e-04, 2.8394e-04, 3.9540e-04, 4.9913e-04, 4.7399e-04, 4.6311e-04,\n",
            "         4.9173e-04, 2.4159e-04, 1.1147e-04, 8.4724e-04, 9.9564e-01, 1.5117e-04,\n",
            "         6.7885e-05],\n",
            "        [1.8410e-04, 9.3116e-05, 1.4352e-04, 1.9002e-04, 1.4471e-04, 2.4721e-04,\n",
            "         1.1706e-04, 7.0346e-05, 6.5685e-05, 1.7397e-04, 9.9846e-01, 8.0161e-05,\n",
            "         2.5627e-05],\n",
            "        [3.1620e-04, 3.5919e-04, 5.3196e-04, 4.7940e-04, 1.9166e-04, 4.0391e-04,\n",
            "         2.9564e-04, 7.9774e-05, 5.2226e-05, 3.9496e-04, 9.9670e-01, 1.5791e-04,\n",
            "         3.8301e-05],\n",
            "        [7.9520e-04, 2.7067e-04, 6.1061e-04, 6.6689e-04, 1.4022e-03, 1.6740e-03,\n",
            "         4.7490e-04, 3.0781e-04, 2.9710e-04, 3.8955e-04, 9.9269e-01, 1.7577e-04,\n",
            "         2.4479e-04],\n",
            "        [1.6426e-03, 8.9317e-04, 1.4707e-03, 1.1388e-03, 8.7707e-04, 5.0095e-04,\n",
            "         5.2098e-04, 2.8033e-04, 3.3560e-04, 1.6836e-03, 9.8960e-01, 7.9503e-04,\n",
            "         2.6321e-04],\n",
            "        [3.4371e-02, 1.6836e-02, 3.2653e-02, 1.2503e-02, 1.0114e-02, 6.1278e-03,\n",
            "         9.3075e-03, 7.5976e-03, 9.0552e-03, 2.7365e-02, 8.1287e-01, 1.5354e-02,\n",
            "         5.8448e-03]], device='cuda:0')\n",
            "token:  101 tag:  O entity:  #\n",
            "token:  6998 tag:  B-corporation entity:  Microsoft\n",
            "token:  1427 tag:  O entity:  #\n",
            "token:  1157 tag:  O entity:  #\n",
            "token:  3834 tag:  O entity:  #\n",
            "token:  1121 tag:  O entity:  #\n",
            "token:  10199 tag:  B-location entity:  Bellevue\n",
            "token:  19038 tag:  I-location entity:  Bellevue\n",
            "token:  1106 tag:  O entity:  #\n",
            "token:  2156 tag:  B-location entity:  Redmond,\n",
            "token:  10151 tag:  I-location entity:  Redmond,\n",
            "token:  117 tag:  O entity:  #\n",
            "token:  1994 tag:  B-location entity:  Washington,\n",
            "token:  117 tag:  O entity:  #\n",
            "token:  1113 tag:  O entity:  #\n",
            "token:  1428 tag:  O entity:  #\n",
            "token:  1744 tag:  O entity:  #\n",
            "token:  117 tag:  O entity:  #\n",
            "token:  2177 tag:  O entity:  #\n",
            "token:  117 tag:  O entity:  #\n",
            "token:  1105 tag:  O entity:  #\n",
            "token:  1355 tag:  O entity:  #\n",
            "token:  1470 tag:  O entity:  #\n",
            "token:  1113 tag:  O entity:  #\n",
            "token:  1345 tag:  O entity:  #\n",
            "token:  1492 tag:  O entity:  #\n",
            "token:  119 tag:  O entity:  #\n",
            "token:  102 tag:  O entity:  #\n"
          ],
          "name": "stdout"
        }
      ]
    },
    {
      "cell_type": "code",
      "metadata": {
        "id": "0YhMgve2h14Z"
      },
      "source": [
        "inputs"
      ],
      "execution_count": null,
      "outputs": []
    }
  ]
}
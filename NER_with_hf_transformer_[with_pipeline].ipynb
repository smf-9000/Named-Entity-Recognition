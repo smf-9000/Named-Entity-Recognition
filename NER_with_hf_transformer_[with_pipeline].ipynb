{
  "nbformat": 4,
  "nbformat_minor": 0,
  "metadata": {
    "colab": {
      "name": "NER-with-hf-transformer-[with-pipeline].ipynb",
      "provenance": [],
      "collapsed_sections": [],
      "authorship_tag": "ABX9TyNPZG2rJm0AB8ypSQVLfeZJ",
      "include_colab_link": true
    },
    "kernelspec": {
      "name": "python3",
      "display_name": "Python 3"
    },
    "language_info": {
      "name": "python"
    },
    "accelerator": "GPU",
    "widgets": {
      "application/vnd.jupyter.widget-state+json": {
        "63694d3fadc74c82b30dca1e9b7deaa8": {
          "model_module": "@jupyter-widgets/controls",
          "model_name": "HBoxModel",
          "state": {
            "_view_name": "HBoxView",
            "_dom_classes": [],
            "_model_name": "HBoxModel",
            "_view_module": "@jupyter-widgets/controls",
            "_model_module_version": "1.5.0",
            "_view_count": null,
            "_view_module_version": "1.5.0",
            "box_style": "",
            "layout": "IPY_MODEL_8d628ca6a9874f7caef7856752c90894",
            "_model_module": "@jupyter-widgets/controls",
            "children": [
              "IPY_MODEL_61623be6ff1e4fbb9418a4539be94cee",
              "IPY_MODEL_79a71dcb11934ab39f33ed1ece367dd1"
            ]
          }
        },
        "8d628ca6a9874f7caef7856752c90894": {
          "model_module": "@jupyter-widgets/base",
          "model_name": "LayoutModel",
          "state": {
            "_view_name": "LayoutView",
            "grid_template_rows": null,
            "right": null,
            "justify_content": null,
            "_view_module": "@jupyter-widgets/base",
            "overflow": null,
            "_model_module_version": "1.2.0",
            "_view_count": null,
            "flex_flow": null,
            "width": null,
            "min_width": null,
            "border": null,
            "align_items": null,
            "bottom": null,
            "_model_module": "@jupyter-widgets/base",
            "top": null,
            "grid_column": null,
            "overflow_y": null,
            "overflow_x": null,
            "grid_auto_flow": null,
            "grid_area": null,
            "grid_template_columns": null,
            "flex": null,
            "_model_name": "LayoutModel",
            "justify_items": null,
            "grid_row": null,
            "max_height": null,
            "align_content": null,
            "visibility": null,
            "align_self": null,
            "height": null,
            "min_height": null,
            "padding": null,
            "grid_auto_rows": null,
            "grid_gap": null,
            "max_width": null,
            "order": null,
            "_view_module_version": "1.2.0",
            "grid_template_areas": null,
            "object_position": null,
            "object_fit": null,
            "grid_auto_columns": null,
            "margin": null,
            "display": null,
            "left": null
          }
        },
        "61623be6ff1e4fbb9418a4539be94cee": {
          "model_module": "@jupyter-widgets/controls",
          "model_name": "FloatProgressModel",
          "state": {
            "_view_name": "ProgressView",
            "style": "IPY_MODEL_96927bcf2b9c4d848253546bfe383abe",
            "_dom_classes": [],
            "description": "Downloading: 100%",
            "_model_name": "FloatProgressModel",
            "bar_style": "success",
            "max": 213450,
            "_view_module": "@jupyter-widgets/controls",
            "_model_module_version": "1.5.0",
            "value": 213450,
            "_view_count": null,
            "_view_module_version": "1.5.0",
            "orientation": "horizontal",
            "min": 0,
            "description_tooltip": null,
            "_model_module": "@jupyter-widgets/controls",
            "layout": "IPY_MODEL_94b7c90e9db049bcb4796e6bb41cc45d"
          }
        },
        "79a71dcb11934ab39f33ed1ece367dd1": {
          "model_module": "@jupyter-widgets/controls",
          "model_name": "HTMLModel",
          "state": {
            "_view_name": "HTMLView",
            "style": "IPY_MODEL_fa64d31bf672462392f080d021877d0a",
            "_dom_classes": [],
            "description": "",
            "_model_name": "HTMLModel",
            "placeholder": "​",
            "_view_module": "@jupyter-widgets/controls",
            "_model_module_version": "1.5.0",
            "value": " 213k/213k [00:02&lt;00:00, 90.4kB/s]",
            "_view_count": null,
            "_view_module_version": "1.5.0",
            "description_tooltip": null,
            "_model_module": "@jupyter-widgets/controls",
            "layout": "IPY_MODEL_c8bcd0afae5e4b3bb92fb8da0afae3c1"
          }
        },
        "96927bcf2b9c4d848253546bfe383abe": {
          "model_module": "@jupyter-widgets/controls",
          "model_name": "ProgressStyleModel",
          "state": {
            "_view_name": "StyleView",
            "_model_name": "ProgressStyleModel",
            "description_width": "initial",
            "_view_module": "@jupyter-widgets/base",
            "_model_module_version": "1.5.0",
            "_view_count": null,
            "_view_module_version": "1.2.0",
            "bar_color": null,
            "_model_module": "@jupyter-widgets/controls"
          }
        },
        "94b7c90e9db049bcb4796e6bb41cc45d": {
          "model_module": "@jupyter-widgets/base",
          "model_name": "LayoutModel",
          "state": {
            "_view_name": "LayoutView",
            "grid_template_rows": null,
            "right": null,
            "justify_content": null,
            "_view_module": "@jupyter-widgets/base",
            "overflow": null,
            "_model_module_version": "1.2.0",
            "_view_count": null,
            "flex_flow": null,
            "width": null,
            "min_width": null,
            "border": null,
            "align_items": null,
            "bottom": null,
            "_model_module": "@jupyter-widgets/base",
            "top": null,
            "grid_column": null,
            "overflow_y": null,
            "overflow_x": null,
            "grid_auto_flow": null,
            "grid_area": null,
            "grid_template_columns": null,
            "flex": null,
            "_model_name": "LayoutModel",
            "justify_items": null,
            "grid_row": null,
            "max_height": null,
            "align_content": null,
            "visibility": null,
            "align_self": null,
            "height": null,
            "min_height": null,
            "padding": null,
            "grid_auto_rows": null,
            "grid_gap": null,
            "max_width": null,
            "order": null,
            "_view_module_version": "1.2.0",
            "grid_template_areas": null,
            "object_position": null,
            "object_fit": null,
            "grid_auto_columns": null,
            "margin": null,
            "display": null,
            "left": null
          }
        },
        "fa64d31bf672462392f080d021877d0a": {
          "model_module": "@jupyter-widgets/controls",
          "model_name": "DescriptionStyleModel",
          "state": {
            "_view_name": "StyleView",
            "_model_name": "DescriptionStyleModel",
            "description_width": "",
            "_view_module": "@jupyter-widgets/base",
            "_model_module_version": "1.5.0",
            "_view_count": null,
            "_view_module_version": "1.2.0",
            "_model_module": "@jupyter-widgets/controls"
          }
        },
        "c8bcd0afae5e4b3bb92fb8da0afae3c1": {
          "model_module": "@jupyter-widgets/base",
          "model_name": "LayoutModel",
          "state": {
            "_view_name": "LayoutView",
            "grid_template_rows": null,
            "right": null,
            "justify_content": null,
            "_view_module": "@jupyter-widgets/base",
            "overflow": null,
            "_model_module_version": "1.2.0",
            "_view_count": null,
            "flex_flow": null,
            "width": null,
            "min_width": null,
            "border": null,
            "align_items": null,
            "bottom": null,
            "_model_module": "@jupyter-widgets/base",
            "top": null,
            "grid_column": null,
            "overflow_y": null,
            "overflow_x": null,
            "grid_auto_flow": null,
            "grid_area": null,
            "grid_template_columns": null,
            "flex": null,
            "_model_name": "LayoutModel",
            "justify_items": null,
            "grid_row": null,
            "max_height": null,
            "align_content": null,
            "visibility": null,
            "align_self": null,
            "height": null,
            "min_height": null,
            "padding": null,
            "grid_auto_rows": null,
            "grid_gap": null,
            "max_width": null,
            "order": null,
            "_view_module_version": "1.2.0",
            "grid_template_areas": null,
            "object_position": null,
            "object_fit": null,
            "grid_auto_columns": null,
            "margin": null,
            "display": null,
            "left": null
          }
        },
        "0552cc92c1e74d72a484004dae6dea15": {
          "model_module": "@jupyter-widgets/controls",
          "model_name": "HBoxModel",
          "state": {
            "_view_name": "HBoxView",
            "_dom_classes": [],
            "_model_name": "HBoxModel",
            "_view_module": "@jupyter-widgets/controls",
            "_model_module_version": "1.5.0",
            "_view_count": null,
            "_view_module_version": "1.5.0",
            "box_style": "",
            "layout": "IPY_MODEL_9249ee2dd4264814b6fa054f81445b0b",
            "_model_module": "@jupyter-widgets/controls",
            "children": [
              "IPY_MODEL_81a4d65685c84c93afc7df6061cee61c",
              "IPY_MODEL_b9b9ee587e074297b1172804e9f13afe"
            ]
          }
        },
        "9249ee2dd4264814b6fa054f81445b0b": {
          "model_module": "@jupyter-widgets/base",
          "model_name": "LayoutModel",
          "state": {
            "_view_name": "LayoutView",
            "grid_template_rows": null,
            "right": null,
            "justify_content": null,
            "_view_module": "@jupyter-widgets/base",
            "overflow": null,
            "_model_module_version": "1.2.0",
            "_view_count": null,
            "flex_flow": null,
            "width": null,
            "min_width": null,
            "border": null,
            "align_items": null,
            "bottom": null,
            "_model_module": "@jupyter-widgets/base",
            "top": null,
            "grid_column": null,
            "overflow_y": null,
            "overflow_x": null,
            "grid_auto_flow": null,
            "grid_area": null,
            "grid_template_columns": null,
            "flex": null,
            "_model_name": "LayoutModel",
            "justify_items": null,
            "grid_row": null,
            "max_height": null,
            "align_content": null,
            "visibility": null,
            "align_self": null,
            "height": null,
            "min_height": null,
            "padding": null,
            "grid_auto_rows": null,
            "grid_gap": null,
            "max_width": null,
            "order": null,
            "_view_module_version": "1.2.0",
            "grid_template_areas": null,
            "object_position": null,
            "object_fit": null,
            "grid_auto_columns": null,
            "margin": null,
            "display": null,
            "left": null
          }
        },
        "81a4d65685c84c93afc7df6061cee61c": {
          "model_module": "@jupyter-widgets/controls",
          "model_name": "FloatProgressModel",
          "state": {
            "_view_name": "ProgressView",
            "style": "IPY_MODEL_82204791155b4274885e98cc0698202e",
            "_dom_classes": [],
            "description": "Downloading: 100%",
            "_model_name": "FloatProgressModel",
            "bar_style": "success",
            "max": 435797,
            "_view_module": "@jupyter-widgets/controls",
            "_model_module_version": "1.5.0",
            "value": 435797,
            "_view_count": null,
            "_view_module_version": "1.5.0",
            "orientation": "horizontal",
            "min": 0,
            "description_tooltip": null,
            "_model_module": "@jupyter-widgets/controls",
            "layout": "IPY_MODEL_a2924ba9a0244eb3b0bc8168c4f90c66"
          }
        },
        "b9b9ee587e074297b1172804e9f13afe": {
          "model_module": "@jupyter-widgets/controls",
          "model_name": "HTMLModel",
          "state": {
            "_view_name": "HTMLView",
            "style": "IPY_MODEL_fd6685513194490a926f2149dd0edb73",
            "_dom_classes": [],
            "description": "",
            "_model_name": "HTMLModel",
            "placeholder": "​",
            "_view_module": "@jupyter-widgets/controls",
            "_model_module_version": "1.5.0",
            "value": " 436k/436k [00:01&lt;00:00, 331kB/s]",
            "_view_count": null,
            "_view_module_version": "1.5.0",
            "description_tooltip": null,
            "_model_module": "@jupyter-widgets/controls",
            "layout": "IPY_MODEL_3605ebebb2fa4776a3af140e6c294f38"
          }
        },
        "82204791155b4274885e98cc0698202e": {
          "model_module": "@jupyter-widgets/controls",
          "model_name": "ProgressStyleModel",
          "state": {
            "_view_name": "StyleView",
            "_model_name": "ProgressStyleModel",
            "description_width": "initial",
            "_view_module": "@jupyter-widgets/base",
            "_model_module_version": "1.5.0",
            "_view_count": null,
            "_view_module_version": "1.2.0",
            "bar_color": null,
            "_model_module": "@jupyter-widgets/controls"
          }
        },
        "a2924ba9a0244eb3b0bc8168c4f90c66": {
          "model_module": "@jupyter-widgets/base",
          "model_name": "LayoutModel",
          "state": {
            "_view_name": "LayoutView",
            "grid_template_rows": null,
            "right": null,
            "justify_content": null,
            "_view_module": "@jupyter-widgets/base",
            "overflow": null,
            "_model_module_version": "1.2.0",
            "_view_count": null,
            "flex_flow": null,
            "width": null,
            "min_width": null,
            "border": null,
            "align_items": null,
            "bottom": null,
            "_model_module": "@jupyter-widgets/base",
            "top": null,
            "grid_column": null,
            "overflow_y": null,
            "overflow_x": null,
            "grid_auto_flow": null,
            "grid_area": null,
            "grid_template_columns": null,
            "flex": null,
            "_model_name": "LayoutModel",
            "justify_items": null,
            "grid_row": null,
            "max_height": null,
            "align_content": null,
            "visibility": null,
            "align_self": null,
            "height": null,
            "min_height": null,
            "padding": null,
            "grid_auto_rows": null,
            "grid_gap": null,
            "max_width": null,
            "order": null,
            "_view_module_version": "1.2.0",
            "grid_template_areas": null,
            "object_position": null,
            "object_fit": null,
            "grid_auto_columns": null,
            "margin": null,
            "display": null,
            "left": null
          }
        },
        "fd6685513194490a926f2149dd0edb73": {
          "model_module": "@jupyter-widgets/controls",
          "model_name": "DescriptionStyleModel",
          "state": {
            "_view_name": "StyleView",
            "_model_name": "DescriptionStyleModel",
            "description_width": "",
            "_view_module": "@jupyter-widgets/base",
            "_model_module_version": "1.5.0",
            "_view_count": null,
            "_view_module_version": "1.2.0",
            "_model_module": "@jupyter-widgets/controls"
          }
        },
        "3605ebebb2fa4776a3af140e6c294f38": {
          "model_module": "@jupyter-widgets/base",
          "model_name": "LayoutModel",
          "state": {
            "_view_name": "LayoutView",
            "grid_template_rows": null,
            "right": null,
            "justify_content": null,
            "_view_module": "@jupyter-widgets/base",
            "overflow": null,
            "_model_module_version": "1.2.0",
            "_view_count": null,
            "flex_flow": null,
            "width": null,
            "min_width": null,
            "border": null,
            "align_items": null,
            "bottom": null,
            "_model_module": "@jupyter-widgets/base",
            "top": null,
            "grid_column": null,
            "overflow_y": null,
            "overflow_x": null,
            "grid_auto_flow": null,
            "grid_area": null,
            "grid_template_columns": null,
            "flex": null,
            "_model_name": "LayoutModel",
            "justify_items": null,
            "grid_row": null,
            "max_height": null,
            "align_content": null,
            "visibility": null,
            "align_self": null,
            "height": null,
            "min_height": null,
            "padding": null,
            "grid_auto_rows": null,
            "grid_gap": null,
            "max_width": null,
            "order": null,
            "_view_module_version": "1.2.0",
            "grid_template_areas": null,
            "object_position": null,
            "object_fit": null,
            "grid_auto_columns": null,
            "margin": null,
            "display": null,
            "left": null
          }
        },
        "de871453384b43b4b051b2495f2d414c": {
          "model_module": "@jupyter-widgets/controls",
          "model_name": "HBoxModel",
          "state": {
            "_view_name": "HBoxView",
            "_dom_classes": [],
            "_model_name": "HBoxModel",
            "_view_module": "@jupyter-widgets/controls",
            "_model_module_version": "1.5.0",
            "_view_count": null,
            "_view_module_version": "1.5.0",
            "box_style": "",
            "layout": "IPY_MODEL_81d48a5a8db44d5baa4776022b8858f9",
            "_model_module": "@jupyter-widgets/controls",
            "children": [
              "IPY_MODEL_1e52fb6dd1ad49c9ab605c423ba796f9",
              "IPY_MODEL_c2f5f3f31981412da4ab48699f996d64"
            ]
          }
        },
        "81d48a5a8db44d5baa4776022b8858f9": {
          "model_module": "@jupyter-widgets/base",
          "model_name": "LayoutModel",
          "state": {
            "_view_name": "LayoutView",
            "grid_template_rows": null,
            "right": null,
            "justify_content": null,
            "_view_module": "@jupyter-widgets/base",
            "overflow": null,
            "_model_module_version": "1.2.0",
            "_view_count": null,
            "flex_flow": null,
            "width": null,
            "min_width": null,
            "border": null,
            "align_items": null,
            "bottom": null,
            "_model_module": "@jupyter-widgets/base",
            "top": null,
            "grid_column": null,
            "overflow_y": null,
            "overflow_x": null,
            "grid_auto_flow": null,
            "grid_area": null,
            "grid_template_columns": null,
            "flex": null,
            "_model_name": "LayoutModel",
            "justify_items": null,
            "grid_row": null,
            "max_height": null,
            "align_content": null,
            "visibility": null,
            "align_self": null,
            "height": null,
            "min_height": null,
            "padding": null,
            "grid_auto_rows": null,
            "grid_gap": null,
            "max_width": null,
            "order": null,
            "_view_module_version": "1.2.0",
            "grid_template_areas": null,
            "object_position": null,
            "object_fit": null,
            "grid_auto_columns": null,
            "margin": null,
            "display": null,
            "left": null
          }
        },
        "1e52fb6dd1ad49c9ab605c423ba796f9": {
          "model_module": "@jupyter-widgets/controls",
          "model_name": "FloatProgressModel",
          "state": {
            "_view_name": "ProgressView",
            "style": "IPY_MODEL_c061c5d4ae2844948caa700eecb1c138",
            "_dom_classes": [],
            "description": "Downloading: 100%",
            "_model_name": "FloatProgressModel",
            "bar_style": "success",
            "max": 29,
            "_view_module": "@jupyter-widgets/controls",
            "_model_module_version": "1.5.0",
            "value": 29,
            "_view_count": null,
            "_view_module_version": "1.5.0",
            "orientation": "horizontal",
            "min": 0,
            "description_tooltip": null,
            "_model_module": "@jupyter-widgets/controls",
            "layout": "IPY_MODEL_a4f5f7a58db0497a9ddf716d66f171b5"
          }
        },
        "c2f5f3f31981412da4ab48699f996d64": {
          "model_module": "@jupyter-widgets/controls",
          "model_name": "HTMLModel",
          "state": {
            "_view_name": "HTMLView",
            "style": "IPY_MODEL_3439ae3934234c0bb1eef3547d4ae872",
            "_dom_classes": [],
            "description": "",
            "_model_name": "HTMLModel",
            "placeholder": "​",
            "_view_module": "@jupyter-widgets/controls",
            "_model_module_version": "1.5.0",
            "value": " 29.0/29.0 [00:00&lt;00:00, 90.5B/s]",
            "_view_count": null,
            "_view_module_version": "1.5.0",
            "description_tooltip": null,
            "_model_module": "@jupyter-widgets/controls",
            "layout": "IPY_MODEL_b31d8d32500448c49ecaa2900a3d04cb"
          }
        },
        "c061c5d4ae2844948caa700eecb1c138": {
          "model_module": "@jupyter-widgets/controls",
          "model_name": "ProgressStyleModel",
          "state": {
            "_view_name": "StyleView",
            "_model_name": "ProgressStyleModel",
            "description_width": "initial",
            "_view_module": "@jupyter-widgets/base",
            "_model_module_version": "1.5.0",
            "_view_count": null,
            "_view_module_version": "1.2.0",
            "bar_color": null,
            "_model_module": "@jupyter-widgets/controls"
          }
        },
        "a4f5f7a58db0497a9ddf716d66f171b5": {
          "model_module": "@jupyter-widgets/base",
          "model_name": "LayoutModel",
          "state": {
            "_view_name": "LayoutView",
            "grid_template_rows": null,
            "right": null,
            "justify_content": null,
            "_view_module": "@jupyter-widgets/base",
            "overflow": null,
            "_model_module_version": "1.2.0",
            "_view_count": null,
            "flex_flow": null,
            "width": null,
            "min_width": null,
            "border": null,
            "align_items": null,
            "bottom": null,
            "_model_module": "@jupyter-widgets/base",
            "top": null,
            "grid_column": null,
            "overflow_y": null,
            "overflow_x": null,
            "grid_auto_flow": null,
            "grid_area": null,
            "grid_template_columns": null,
            "flex": null,
            "_model_name": "LayoutModel",
            "justify_items": null,
            "grid_row": null,
            "max_height": null,
            "align_content": null,
            "visibility": null,
            "align_self": null,
            "height": null,
            "min_height": null,
            "padding": null,
            "grid_auto_rows": null,
            "grid_gap": null,
            "max_width": null,
            "order": null,
            "_view_module_version": "1.2.0",
            "grid_template_areas": null,
            "object_position": null,
            "object_fit": null,
            "grid_auto_columns": null,
            "margin": null,
            "display": null,
            "left": null
          }
        },
        "3439ae3934234c0bb1eef3547d4ae872": {
          "model_module": "@jupyter-widgets/controls",
          "model_name": "DescriptionStyleModel",
          "state": {
            "_view_name": "StyleView",
            "_model_name": "DescriptionStyleModel",
            "description_width": "",
            "_view_module": "@jupyter-widgets/base",
            "_model_module_version": "1.5.0",
            "_view_count": null,
            "_view_module_version": "1.2.0",
            "_model_module": "@jupyter-widgets/controls"
          }
        },
        "b31d8d32500448c49ecaa2900a3d04cb": {
          "model_module": "@jupyter-widgets/base",
          "model_name": "LayoutModel",
          "state": {
            "_view_name": "LayoutView",
            "grid_template_rows": null,
            "right": null,
            "justify_content": null,
            "_view_module": "@jupyter-widgets/base",
            "overflow": null,
            "_model_module_version": "1.2.0",
            "_view_count": null,
            "flex_flow": null,
            "width": null,
            "min_width": null,
            "border": null,
            "align_items": null,
            "bottom": null,
            "_model_module": "@jupyter-widgets/base",
            "top": null,
            "grid_column": null,
            "overflow_y": null,
            "overflow_x": null,
            "grid_auto_flow": null,
            "grid_area": null,
            "grid_template_columns": null,
            "flex": null,
            "_model_name": "LayoutModel",
            "justify_items": null,
            "grid_row": null,
            "max_height": null,
            "align_content": null,
            "visibility": null,
            "align_self": null,
            "height": null,
            "min_height": null,
            "padding": null,
            "grid_auto_rows": null,
            "grid_gap": null,
            "max_width": null,
            "order": null,
            "_view_module_version": "1.2.0",
            "grid_template_areas": null,
            "object_position": null,
            "object_fit": null,
            "grid_auto_columns": null,
            "margin": null,
            "display": null,
            "left": null
          }
        },
        "6f640b92b62148928217ff091a20f40d": {
          "model_module": "@jupyter-widgets/controls",
          "model_name": "HBoxModel",
          "state": {
            "_view_name": "HBoxView",
            "_dom_classes": [],
            "_model_name": "HBoxModel",
            "_view_module": "@jupyter-widgets/controls",
            "_model_module_version": "1.5.0",
            "_view_count": null,
            "_view_module_version": "1.5.0",
            "box_style": "",
            "layout": "IPY_MODEL_0437a94f07a94bdd8d661da2f327ddc8",
            "_model_module": "@jupyter-widgets/controls",
            "children": [
              "IPY_MODEL_09253ae3232f4bc7b2e0887362c94ead",
              "IPY_MODEL_c5cb23e31a3c4b0b81e7f56f825332dd"
            ]
          }
        },
        "0437a94f07a94bdd8d661da2f327ddc8": {
          "model_module": "@jupyter-widgets/base",
          "model_name": "LayoutModel",
          "state": {
            "_view_name": "LayoutView",
            "grid_template_rows": null,
            "right": null,
            "justify_content": null,
            "_view_module": "@jupyter-widgets/base",
            "overflow": null,
            "_model_module_version": "1.2.0",
            "_view_count": null,
            "flex_flow": null,
            "width": null,
            "min_width": null,
            "border": null,
            "align_items": null,
            "bottom": null,
            "_model_module": "@jupyter-widgets/base",
            "top": null,
            "grid_column": null,
            "overflow_y": null,
            "overflow_x": null,
            "grid_auto_flow": null,
            "grid_area": null,
            "grid_template_columns": null,
            "flex": null,
            "_model_name": "LayoutModel",
            "justify_items": null,
            "grid_row": null,
            "max_height": null,
            "align_content": null,
            "visibility": null,
            "align_self": null,
            "height": null,
            "min_height": null,
            "padding": null,
            "grid_auto_rows": null,
            "grid_gap": null,
            "max_width": null,
            "order": null,
            "_view_module_version": "1.2.0",
            "grid_template_areas": null,
            "object_position": null,
            "object_fit": null,
            "grid_auto_columns": null,
            "margin": null,
            "display": null,
            "left": null
          }
        },
        "09253ae3232f4bc7b2e0887362c94ead": {
          "model_module": "@jupyter-widgets/controls",
          "model_name": "FloatProgressModel",
          "state": {
            "_view_name": "ProgressView",
            "style": "IPY_MODEL_fc0d746457a84417b2ab812175df9583",
            "_dom_classes": [],
            "description": "Downloading: 100%",
            "_model_name": "FloatProgressModel",
            "bar_style": "success",
            "max": 411,
            "_view_module": "@jupyter-widgets/controls",
            "_model_module_version": "1.5.0",
            "value": 411,
            "_view_count": null,
            "_view_module_version": "1.5.0",
            "orientation": "horizontal",
            "min": 0,
            "description_tooltip": null,
            "_model_module": "@jupyter-widgets/controls",
            "layout": "IPY_MODEL_d08c3b10df4143af950330c2d7d95446"
          }
        },
        "c5cb23e31a3c4b0b81e7f56f825332dd": {
          "model_module": "@jupyter-widgets/controls",
          "model_name": "HTMLModel",
          "state": {
            "_view_name": "HTMLView",
            "style": "IPY_MODEL_e7d71be8b2bf4040a8f18682a1b75bb9",
            "_dom_classes": [],
            "description": "",
            "_model_name": "HTMLModel",
            "placeholder": "​",
            "_view_module": "@jupyter-widgets/controls",
            "_model_module_version": "1.5.0",
            "value": " 411/411 [00:00&lt;00:00, 737B/s]",
            "_view_count": null,
            "_view_module_version": "1.5.0",
            "description_tooltip": null,
            "_model_module": "@jupyter-widgets/controls",
            "layout": "IPY_MODEL_628e8669b6d34811801fb9d5bfa7be10"
          }
        },
        "fc0d746457a84417b2ab812175df9583": {
          "model_module": "@jupyter-widgets/controls",
          "model_name": "ProgressStyleModel",
          "state": {
            "_view_name": "StyleView",
            "_model_name": "ProgressStyleModel",
            "description_width": "initial",
            "_view_module": "@jupyter-widgets/base",
            "_model_module_version": "1.5.0",
            "_view_count": null,
            "_view_module_version": "1.2.0",
            "bar_color": null,
            "_model_module": "@jupyter-widgets/controls"
          }
        },
        "d08c3b10df4143af950330c2d7d95446": {
          "model_module": "@jupyter-widgets/base",
          "model_name": "LayoutModel",
          "state": {
            "_view_name": "LayoutView",
            "grid_template_rows": null,
            "right": null,
            "justify_content": null,
            "_view_module": "@jupyter-widgets/base",
            "overflow": null,
            "_model_module_version": "1.2.0",
            "_view_count": null,
            "flex_flow": null,
            "width": null,
            "min_width": null,
            "border": null,
            "align_items": null,
            "bottom": null,
            "_model_module": "@jupyter-widgets/base",
            "top": null,
            "grid_column": null,
            "overflow_y": null,
            "overflow_x": null,
            "grid_auto_flow": null,
            "grid_area": null,
            "grid_template_columns": null,
            "flex": null,
            "_model_name": "LayoutModel",
            "justify_items": null,
            "grid_row": null,
            "max_height": null,
            "align_content": null,
            "visibility": null,
            "align_self": null,
            "height": null,
            "min_height": null,
            "padding": null,
            "grid_auto_rows": null,
            "grid_gap": null,
            "max_width": null,
            "order": null,
            "_view_module_version": "1.2.0",
            "grid_template_areas": null,
            "object_position": null,
            "object_fit": null,
            "grid_auto_columns": null,
            "margin": null,
            "display": null,
            "left": null
          }
        },
        "e7d71be8b2bf4040a8f18682a1b75bb9": {
          "model_module": "@jupyter-widgets/controls",
          "model_name": "DescriptionStyleModel",
          "state": {
            "_view_name": "StyleView",
            "_model_name": "DescriptionStyleModel",
            "description_width": "",
            "_view_module": "@jupyter-widgets/base",
            "_model_module_version": "1.5.0",
            "_view_count": null,
            "_view_module_version": "1.2.0",
            "_model_module": "@jupyter-widgets/controls"
          }
        },
        "628e8669b6d34811801fb9d5bfa7be10": {
          "model_module": "@jupyter-widgets/base",
          "model_name": "LayoutModel",
          "state": {
            "_view_name": "LayoutView",
            "grid_template_rows": null,
            "right": null,
            "justify_content": null,
            "_view_module": "@jupyter-widgets/base",
            "overflow": null,
            "_model_module_version": "1.2.0",
            "_view_count": null,
            "flex_flow": null,
            "width": null,
            "min_width": null,
            "border": null,
            "align_items": null,
            "bottom": null,
            "_model_module": "@jupyter-widgets/base",
            "top": null,
            "grid_column": null,
            "overflow_y": null,
            "overflow_x": null,
            "grid_auto_flow": null,
            "grid_area": null,
            "grid_template_columns": null,
            "flex": null,
            "_model_name": "LayoutModel",
            "justify_items": null,
            "grid_row": null,
            "max_height": null,
            "align_content": null,
            "visibility": null,
            "align_self": null,
            "height": null,
            "min_height": null,
            "padding": null,
            "grid_auto_rows": null,
            "grid_gap": null,
            "max_width": null,
            "order": null,
            "_view_module_version": "1.2.0",
            "grid_template_areas": null,
            "object_position": null,
            "object_fit": null,
            "grid_auto_columns": null,
            "margin": null,
            "display": null,
            "left": null
          }
        },
        "6dd86a814d4c4defb7623a9fd1b56c8f": {
          "model_module": "@jupyter-widgets/controls",
          "model_name": "HBoxModel",
          "state": {
            "_view_name": "HBoxView",
            "_dom_classes": [],
            "_model_name": "HBoxModel",
            "_view_module": "@jupyter-widgets/controls",
            "_model_module_version": "1.5.0",
            "_view_count": null,
            "_view_module_version": "1.5.0",
            "box_style": "",
            "layout": "IPY_MODEL_141b8791d48944c28848c3c65a8c8ed5",
            "_model_module": "@jupyter-widgets/controls",
            "children": [
              "IPY_MODEL_4f5758567008467592690d2e31b7ae0e",
              "IPY_MODEL_7c38cc89e2834fc4ad07f5af03ffa8eb"
            ]
          }
        },
        "141b8791d48944c28848c3c65a8c8ed5": {
          "model_module": "@jupyter-widgets/base",
          "model_name": "LayoutModel",
          "state": {
            "_view_name": "LayoutView",
            "grid_template_rows": null,
            "right": null,
            "justify_content": null,
            "_view_module": "@jupyter-widgets/base",
            "overflow": null,
            "_model_module_version": "1.2.0",
            "_view_count": null,
            "flex_flow": null,
            "width": null,
            "min_width": null,
            "border": null,
            "align_items": null,
            "bottom": null,
            "_model_module": "@jupyter-widgets/base",
            "top": null,
            "grid_column": null,
            "overflow_y": null,
            "overflow_x": null,
            "grid_auto_flow": null,
            "grid_area": null,
            "grid_template_columns": null,
            "flex": null,
            "_model_name": "LayoutModel",
            "justify_items": null,
            "grid_row": null,
            "max_height": null,
            "align_content": null,
            "visibility": null,
            "align_self": null,
            "height": null,
            "min_height": null,
            "padding": null,
            "grid_auto_rows": null,
            "grid_gap": null,
            "max_width": null,
            "order": null,
            "_view_module_version": "1.2.0",
            "grid_template_areas": null,
            "object_position": null,
            "object_fit": null,
            "grid_auto_columns": null,
            "margin": null,
            "display": null,
            "left": null
          }
        },
        "4f5758567008467592690d2e31b7ae0e": {
          "model_module": "@jupyter-widgets/controls",
          "model_name": "FloatProgressModel",
          "state": {
            "_view_name": "ProgressView",
            "style": "IPY_MODEL_1ca5719916f1433aa191221e8a7af2cf",
            "_dom_classes": [],
            "description": "Downloading: 100%",
            "_model_name": "FloatProgressModel",
            "bar_style": "success",
            "max": 263273408,
            "_view_module": "@jupyter-widgets/controls",
            "_model_module_version": "1.5.0",
            "value": 263273408,
            "_view_count": null,
            "_view_module_version": "1.5.0",
            "orientation": "horizontal",
            "min": 0,
            "description_tooltip": null,
            "_model_module": "@jupyter-widgets/controls",
            "layout": "IPY_MODEL_f385a5fec7ef479dbece067a4b90ca54"
          }
        },
        "7c38cc89e2834fc4ad07f5af03ffa8eb": {
          "model_module": "@jupyter-widgets/controls",
          "model_name": "HTMLModel",
          "state": {
            "_view_name": "HTMLView",
            "style": "IPY_MODEL_5c6fcd3de0bf485fb745ea2bea0a74f4",
            "_dom_classes": [],
            "description": "",
            "_model_name": "HTMLModel",
            "placeholder": "​",
            "_view_module": "@jupyter-widgets/controls",
            "_model_module_version": "1.5.0",
            "value": " 263M/263M [00:05&lt;00:00, 47.3MB/s]",
            "_view_count": null,
            "_view_module_version": "1.5.0",
            "description_tooltip": null,
            "_model_module": "@jupyter-widgets/controls",
            "layout": "IPY_MODEL_51c1fc6670014eb984a21893ebb424f1"
          }
        },
        "1ca5719916f1433aa191221e8a7af2cf": {
          "model_module": "@jupyter-widgets/controls",
          "model_name": "ProgressStyleModel",
          "state": {
            "_view_name": "StyleView",
            "_model_name": "ProgressStyleModel",
            "description_width": "initial",
            "_view_module": "@jupyter-widgets/base",
            "_model_module_version": "1.5.0",
            "_view_count": null,
            "_view_module_version": "1.2.0",
            "bar_color": null,
            "_model_module": "@jupyter-widgets/controls"
          }
        },
        "f385a5fec7ef479dbece067a4b90ca54": {
          "model_module": "@jupyter-widgets/base",
          "model_name": "LayoutModel",
          "state": {
            "_view_name": "LayoutView",
            "grid_template_rows": null,
            "right": null,
            "justify_content": null,
            "_view_module": "@jupyter-widgets/base",
            "overflow": null,
            "_model_module_version": "1.2.0",
            "_view_count": null,
            "flex_flow": null,
            "width": null,
            "min_width": null,
            "border": null,
            "align_items": null,
            "bottom": null,
            "_model_module": "@jupyter-widgets/base",
            "top": null,
            "grid_column": null,
            "overflow_y": null,
            "overflow_x": null,
            "grid_auto_flow": null,
            "grid_area": null,
            "grid_template_columns": null,
            "flex": null,
            "_model_name": "LayoutModel",
            "justify_items": null,
            "grid_row": null,
            "max_height": null,
            "align_content": null,
            "visibility": null,
            "align_self": null,
            "height": null,
            "min_height": null,
            "padding": null,
            "grid_auto_rows": null,
            "grid_gap": null,
            "max_width": null,
            "order": null,
            "_view_module_version": "1.2.0",
            "grid_template_areas": null,
            "object_position": null,
            "object_fit": null,
            "grid_auto_columns": null,
            "margin": null,
            "display": null,
            "left": null
          }
        },
        "5c6fcd3de0bf485fb745ea2bea0a74f4": {
          "model_module": "@jupyter-widgets/controls",
          "model_name": "DescriptionStyleModel",
          "state": {
            "_view_name": "StyleView",
            "_model_name": "DescriptionStyleModel",
            "description_width": "",
            "_view_module": "@jupyter-widgets/base",
            "_model_module_version": "1.5.0",
            "_view_count": null,
            "_view_module_version": "1.2.0",
            "_model_module": "@jupyter-widgets/controls"
          }
        },
        "51c1fc6670014eb984a21893ebb424f1": {
          "model_module": "@jupyter-widgets/base",
          "model_name": "LayoutModel",
          "state": {
            "_view_name": "LayoutView",
            "grid_template_rows": null,
            "right": null,
            "justify_content": null,
            "_view_module": "@jupyter-widgets/base",
            "overflow": null,
            "_model_module_version": "1.2.0",
            "_view_count": null,
            "flex_flow": null,
            "width": null,
            "min_width": null,
            "border": null,
            "align_items": null,
            "bottom": null,
            "_model_module": "@jupyter-widgets/base",
            "top": null,
            "grid_column": null,
            "overflow_y": null,
            "overflow_x": null,
            "grid_auto_flow": null,
            "grid_area": null,
            "grid_template_columns": null,
            "flex": null,
            "_model_name": "LayoutModel",
            "justify_items": null,
            "grid_row": null,
            "max_height": null,
            "align_content": null,
            "visibility": null,
            "align_self": null,
            "height": null,
            "min_height": null,
            "padding": null,
            "grid_auto_rows": null,
            "grid_gap": null,
            "max_width": null,
            "order": null,
            "_view_module_version": "1.2.0",
            "grid_template_areas": null,
            "object_position": null,
            "object_fit": null,
            "grid_auto_columns": null,
            "margin": null,
            "display": null,
            "left": null
          }
        }
      }
    }
  },
  "cells": [
    {
      "cell_type": "markdown",
      "metadata": {
        "id": "view-in-github",
        "colab_type": "text"
      },
      "source": [
        "<a href=\"https://colab.research.google.com/github/smf-9000/Named-Entity-Recognition/blob/main/NER_with_hf_transformer_%5Bwith_pipeline%5D.ipynb\" target=\"_parent\"><img src=\"https://colab.research.google.com/assets/colab-badge.svg\" alt=\"Open In Colab\"/></a>"
      ]
    },
    {
      "cell_type": "markdown",
      "metadata": {
        "id": "MDdrfsG_Ht_5"
      },
      "source": [
        "\n",
        "\n",
        "```\n",
        "[https://huggingface.co/transformers/custom_datasets.html]\n",
        "```\n",
        "\n"
      ]
    },
    {
      "cell_type": "code",
      "metadata": {
        "id": "xX0_Skp_VK4W",
        "colab": {
          "base_uri": "https://localhost:8080/"
        },
        "outputId": "5e0a1ad1-247e-4509-d0ae-ede3dd281aee"
      },
      "source": [
        "!pip install pandas transformers"
      ],
      "execution_count": 1,
      "outputs": [
        {
          "output_type": "stream",
          "text": [
            "Requirement already satisfied: pandas in /usr/local/lib/python3.7/dist-packages (1.1.5)\n",
            "Collecting transformers\n",
            "  Downloading transformers-4.8.2-py3-none-any.whl (2.5 MB)\n",
            "\u001b[K     |████████████████████████████████| 2.5 MB 8.5 MB/s \n",
            "\u001b[?25hRequirement already satisfied: numpy>=1.15.4 in /usr/local/lib/python3.7/dist-packages (from pandas) (1.19.5)\n",
            "Requirement already satisfied: pytz>=2017.2 in /usr/local/lib/python3.7/dist-packages (from pandas) (2018.9)\n",
            "Requirement already satisfied: python-dateutil>=2.7.3 in /usr/local/lib/python3.7/dist-packages (from pandas) (2.8.1)\n",
            "Requirement already satisfied: six>=1.5 in /usr/local/lib/python3.7/dist-packages (from python-dateutil>=2.7.3->pandas) (1.15.0)\n",
            "Requirement already satisfied: filelock in /usr/local/lib/python3.7/dist-packages (from transformers) (3.0.12)\n",
            "Collecting sacremoses\n",
            "  Downloading sacremoses-0.0.45-py3-none-any.whl (895 kB)\n",
            "\u001b[K     |████████████████████████████████| 895 kB 57.6 MB/s \n",
            "\u001b[?25hRequirement already satisfied: importlib-metadata in /usr/local/lib/python3.7/dist-packages (from transformers) (4.6.1)\n",
            "Requirement already satisfied: requests in /usr/local/lib/python3.7/dist-packages (from transformers) (2.23.0)\n",
            "Collecting tokenizers<0.11,>=0.10.1\n",
            "  Downloading tokenizers-0.10.3-cp37-cp37m-manylinux_2_5_x86_64.manylinux1_x86_64.manylinux_2_12_x86_64.manylinux2010_x86_64.whl (3.3 MB)\n",
            "\u001b[K     |████████████████████████████████| 3.3 MB 57.4 MB/s \n",
            "\u001b[?25hRequirement already satisfied: tqdm>=4.27 in /usr/local/lib/python3.7/dist-packages (from transformers) (4.41.1)\n",
            "Requirement already satisfied: packaging in /usr/local/lib/python3.7/dist-packages (from transformers) (21.0)\n",
            "Requirement already satisfied: regex!=2019.12.17 in /usr/local/lib/python3.7/dist-packages (from transformers) (2019.12.20)\n",
            "Collecting huggingface-hub==0.0.12\n",
            "  Downloading huggingface_hub-0.0.12-py3-none-any.whl (37 kB)\n",
            "Requirement already satisfied: pyyaml in /usr/local/lib/python3.7/dist-packages (from transformers) (3.13)\n",
            "Requirement already satisfied: typing-extensions in /usr/local/lib/python3.7/dist-packages (from huggingface-hub==0.0.12->transformers) (3.7.4.3)\n",
            "Requirement already satisfied: pyparsing>=2.0.2 in /usr/local/lib/python3.7/dist-packages (from packaging->transformers) (2.4.7)\n",
            "Requirement already satisfied: zipp>=0.5 in /usr/local/lib/python3.7/dist-packages (from importlib-metadata->transformers) (3.5.0)\n",
            "Requirement already satisfied: certifi>=2017.4.17 in /usr/local/lib/python3.7/dist-packages (from requests->transformers) (2021.5.30)\n",
            "Requirement already satisfied: urllib3!=1.25.0,!=1.25.1,<1.26,>=1.21.1 in /usr/local/lib/python3.7/dist-packages (from requests->transformers) (1.24.3)\n",
            "Requirement already satisfied: chardet<4,>=3.0.2 in /usr/local/lib/python3.7/dist-packages (from requests->transformers) (3.0.4)\n",
            "Requirement already satisfied: idna<3,>=2.5 in /usr/local/lib/python3.7/dist-packages (from requests->transformers) (2.10)\n",
            "Requirement already satisfied: click in /usr/local/lib/python3.7/dist-packages (from sacremoses->transformers) (7.1.2)\n",
            "Requirement already satisfied: joblib in /usr/local/lib/python3.7/dist-packages (from sacremoses->transformers) (1.0.1)\n",
            "Installing collected packages: tokenizers, sacremoses, huggingface-hub, transformers\n",
            "Successfully installed huggingface-hub-0.0.12 sacremoses-0.0.45 tokenizers-0.10.3 transformers-4.8.2\n"
          ],
          "name": "stdout"
        }
      ]
    },
    {
      "cell_type": "code",
      "metadata": {
        "id": "m7AA2ZZQOGM6",
        "colab": {
          "base_uri": "https://localhost:8080/"
        },
        "outputId": "697f80c5-8ad4-442d-b8d9-d04f787116fd"
      },
      "source": [
        "! wget http://noisy-text.github.io/2017/files/wnut17train.conll"
      ],
      "execution_count": 2,
      "outputs": [
        {
          "output_type": "stream",
          "text": [
            "--2021-07-20 09:30:10--  http://noisy-text.github.io/2017/files/wnut17train.conll\n",
            "Resolving noisy-text.github.io (noisy-text.github.io)... 185.199.109.153, 185.199.108.153, 185.199.110.153, ...\n",
            "Connecting to noisy-text.github.io (noisy-text.github.io)|185.199.109.153|:80... connected.\n",
            "HTTP request sent, awaiting response... 200 OK\n",
            "Length: 493781 (482K) [application/octet-stream]\n",
            "Saving to: ‘wnut17train.conll’\n",
            "\n",
            "\rwnut17train.conll     0%[                    ]       0  --.-KB/s               \rwnut17train.conll   100%[===================>] 482.21K  --.-KB/s    in 0.04s   \n",
            "\n",
            "2021-07-20 09:30:10 (13.0 MB/s) - ‘wnut17train.conll’ saved [493781/493781]\n",
            "\n"
          ],
          "name": "stdout"
        }
      ]
    },
    {
      "cell_type": "code",
      "metadata": {
        "id": "--nuOAJiPO99"
      },
      "source": [
        "from pathlib import Path\n",
        "import re\n"
      ],
      "execution_count": 3,
      "outputs": []
    },
    {
      "cell_type": "code",
      "metadata": {
        "id": "w6KCQYCmPRmG",
        "colab": {
          "base_uri": "https://localhost:8080/"
        },
        "outputId": "7b38525b-8597-41ef-e606-59255d0aeadd"
      },
      "source": [
        "file_path = Path(\"/content/wnut17train.conll\")\n",
        "raw_text = file_path.read_text().strip()\n",
        "raw_docs = re.split(r'\\n\\t?\\n', raw_text)\n",
        "\n",
        "token_docs = []\n",
        "tag_docs = []\n",
        "for doc in raw_docs:\n",
        "  tokens = []\n",
        "  tags = []\n",
        "  for line in doc.split('\\n'):\n",
        "    token, tag = line.split('\\t')\n",
        "    tokens.append(token)\n",
        "    tags.append(tag)\n",
        "  token_docs.append(tokens)\n",
        "  tag_docs.append(tags)\n",
        "\n",
        "print(token_docs[10])\n",
        "print(tag_docs[10])"
      ],
      "execution_count": 4,
      "outputs": [
        {
          "output_type": "stream",
          "text": [
            "['@Suzie55', 'whispering', 'cause', 'I', 'may', 'have', 'had', '1', 'too', 'many', 'vodka', \"'s\", 'last', 'night', 'and', 'am', 'a', 'lil', 'fragile', ',', 'hold', 'me', '?']\n",
            "['O', 'O', 'O', 'O', 'O', 'O', 'O', 'O', 'O', 'O', 'B-product', 'O', 'O', 'O', 'O', 'O', 'O', 'O', 'O', 'O', 'O', 'O', 'O']\n"
          ],
          "name": "stdout"
        }
      ]
    },
    {
      "cell_type": "code",
      "metadata": {
        "colab": {
          "base_uri": "https://localhost:8080/"
        },
        "id": "GqUT4hlILw94",
        "outputId": "10279c40-07d0-4b0b-c4cf-b1977601719d"
      },
      "source": [
        "len(token_docs)"
      ],
      "execution_count": 5,
      "outputs": [
        {
          "output_type": "execute_result",
          "data": {
            "text/plain": [
              "3394"
            ]
          },
          "metadata": {
            "tags": []
          },
          "execution_count": 5
        }
      ]
    },
    {
      "cell_type": "code",
      "metadata": {
        "id": "3cnOCHz8R7Qn"
      },
      "source": [
        "from sklearn.model_selection import train_test_split\n",
        "train_texts, val_texts, train_tags, val_tags = train_test_split(token_docs, tag_docs, test_size=.2)"
      ],
      "execution_count": 6,
      "outputs": []
    },
    {
      "cell_type": "markdown",
      "metadata": {
        "id": "YjbttPqCSa1P"
      },
      "source": [
        "## encodings for our tokens and tags"
      ]
    },
    {
      "cell_type": "code",
      "metadata": {
        "id": "JqQYYYENSWFV"
      },
      "source": [
        "unique_tags = set(tag for doc in tag_docs for tag in doc)\n",
        "tag2id = {tag: id for id, tag in enumerate(unique_tags)}\n",
        "id2tag = {id: tag for tag, id in tag2id.items()}\n",
        "\n",
        "# print(tag2id)\n",
        "# print(id2tag)"
      ],
      "execution_count": 7,
      "outputs": []
    },
    {
      "cell_type": "code",
      "metadata": {
        "id": "nE4M5YmMfOSC",
        "colab": {
          "base_uri": "https://localhost:8080/"
        },
        "outputId": "b7216f9a-7bc4-4224-9350-9607f82276fd"
      },
      "source": [
        "id2tag"
      ],
      "execution_count": 8,
      "outputs": [
        {
          "output_type": "execute_result",
          "data": {
            "text/plain": [
              "{0: 'B-location',\n",
              " 1: 'B-corporation',\n",
              " 2: 'B-product',\n",
              " 3: 'I-creative-work',\n",
              " 4: 'B-person',\n",
              " 5: 'I-product',\n",
              " 6: 'I-location',\n",
              " 7: 'O',\n",
              " 8: 'I-corporation',\n",
              " 9: 'I-group',\n",
              " 10: 'B-creative-work',\n",
              " 11: 'I-person',\n",
              " 12: 'B-group'}"
            ]
          },
          "metadata": {
            "tags": []
          },
          "execution_count": 8
        }
      ]
    },
    {
      "cell_type": "code",
      "metadata": {
        "colab": {
          "base_uri": "https://localhost:8080/",
          "height": 164,
          "referenced_widgets": [
            "63694d3fadc74c82b30dca1e9b7deaa8",
            "8d628ca6a9874f7caef7856752c90894",
            "61623be6ff1e4fbb9418a4539be94cee",
            "79a71dcb11934ab39f33ed1ece367dd1",
            "96927bcf2b9c4d848253546bfe383abe",
            "94b7c90e9db049bcb4796e6bb41cc45d",
            "fa64d31bf672462392f080d021877d0a",
            "c8bcd0afae5e4b3bb92fb8da0afae3c1",
            "0552cc92c1e74d72a484004dae6dea15",
            "9249ee2dd4264814b6fa054f81445b0b",
            "81a4d65685c84c93afc7df6061cee61c",
            "b9b9ee587e074297b1172804e9f13afe",
            "82204791155b4274885e98cc0698202e",
            "a2924ba9a0244eb3b0bc8168c4f90c66",
            "fd6685513194490a926f2149dd0edb73",
            "3605ebebb2fa4776a3af140e6c294f38",
            "de871453384b43b4b051b2495f2d414c",
            "81d48a5a8db44d5baa4776022b8858f9",
            "1e52fb6dd1ad49c9ab605c423ba796f9",
            "c2f5f3f31981412da4ab48699f996d64",
            "c061c5d4ae2844948caa700eecb1c138",
            "a4f5f7a58db0497a9ddf716d66f171b5",
            "3439ae3934234c0bb1eef3547d4ae872",
            "b31d8d32500448c49ecaa2900a3d04cb"
          ]
        },
        "id": "5C5r2bSnUSMH",
        "outputId": "65e88754-75fa-41ba-ef08-9961f85edf46"
      },
      "source": [
        "from transformers import DistilBertTokenizerFast\n",
        "\n",
        "tokenizer = DistilBertTokenizerFast.from_pretrained('distilbert-base-cased')\n",
        "\n",
        "train_encodings = tokenizer(train_texts, is_split_into_words=True, return_offsets_mapping=True, padding=True, truncation=True)\n",
        "val_encodings = tokenizer(val_texts, is_split_into_words=True, return_offsets_mapping=True, padding=True, truncation=True)"
      ],
      "execution_count": 9,
      "outputs": [
        {
          "output_type": "display_data",
          "data": {
            "application/vnd.jupyter.widget-view+json": {
              "model_id": "63694d3fadc74c82b30dca1e9b7deaa8",
              "version_minor": 0,
              "version_major": 2
            },
            "text/plain": [
              "HBox(children=(FloatProgress(value=0.0, description='Downloading', max=213450.0, style=ProgressStyle(descripti…"
            ]
          },
          "metadata": {
            "tags": []
          }
        },
        {
          "output_type": "stream",
          "text": [
            "\n"
          ],
          "name": "stdout"
        },
        {
          "output_type": "display_data",
          "data": {
            "application/vnd.jupyter.widget-view+json": {
              "model_id": "0552cc92c1e74d72a484004dae6dea15",
              "version_minor": 0,
              "version_major": 2
            },
            "text/plain": [
              "HBox(children=(FloatProgress(value=0.0, description='Downloading', max=435797.0, style=ProgressStyle(descripti…"
            ]
          },
          "metadata": {
            "tags": []
          }
        },
        {
          "output_type": "stream",
          "text": [
            "\n"
          ],
          "name": "stdout"
        },
        {
          "output_type": "display_data",
          "data": {
            "application/vnd.jupyter.widget-view+json": {
              "model_id": "de871453384b43b4b051b2495f2d414c",
              "version_minor": 0,
              "version_major": 2
            },
            "text/plain": [
              "HBox(children=(FloatProgress(value=0.0, description='Downloading', max=29.0, style=ProgressStyle(description_w…"
            ]
          },
          "metadata": {
            "tags": []
          }
        },
        {
          "output_type": "stream",
          "text": [
            "\n"
          ],
          "name": "stdout"
        }
      ]
    },
    {
      "cell_type": "markdown",
      "metadata": {
        "id": "Cer8jtaoYi9L"
      },
      "source": [
        "\n",
        "\n",
        "```\n",
        "train_encodings={\n",
        "  'input_ids': [...],\n",
        "  'offset_mapping': [...]\n",
        "}\n",
        "\"the offset mapping gives us a tuple indicating the sub-token’s start position and end position relative to the original token it was split from\"\n",
        "```\n",
        "\n"
      ]
    },
    {
      "cell_type": "code",
      "metadata": {
        "id": "ovwBug5ZGLOr"
      },
      "source": [
        "train_encodings"
      ],
      "execution_count": null,
      "outputs": []
    },
    {
      "cell_type": "code",
      "metadata": {
        "id": "P6LurYWZYqEM"
      },
      "source": [
        "# https://huggingface.co/transformers/custom_datasets.html#token-classification-with-w-nut-emerging-entities\n",
        "\n",
        "import numpy as np\n",
        "\n",
        "def encode_tags(tags, encodings):\n",
        "  labels = [[tag2id[tag] for tag in doc] for doc in tags]\n",
        "  encoded_labels = []\n",
        "  for doc_labels, doc_offset in zip(labels, encodings.offset_mapping):\n",
        "    # create an empty array of -100\n",
        "    doc_enc_labels = np.ones(len(doc_offset),dtype=int) * -100\n",
        "    arr_offset = np.array(doc_offset)\n",
        "\n",
        "    # set labels whose first offset position is 0 and the second is not 0\n",
        "    doc_enc_labels[(arr_offset[:,0] == 0) & (arr_offset[:,1] != 0)] = doc_labels\n",
        "    encoded_labels.append(doc_enc_labels.tolist())\n",
        "\n",
        "  return encoded_labels\n",
        "\n",
        "train_labels = encode_tags(train_tags, train_encodings)\n",
        "val_labels = encode_tags(val_tags, val_encodings)"
      ],
      "execution_count": 11,
      "outputs": []
    },
    {
      "cell_type": "code",
      "metadata": {
        "id": "956RTIOjcHU8"
      },
      "source": [
        "print(train_labels)"
      ],
      "execution_count": null,
      "outputs": []
    },
    {
      "cell_type": "code",
      "metadata": {
        "id": "tT2y1Zx-cXs2"
      },
      "source": [
        "import torch\n",
        "\n",
        "class WNUTDataset(torch.utils.data.Dataset):\n",
        "  def __init__(self, encodings, labels):\n",
        "    self.encodings = encodings\n",
        "    self.labels = labels\n",
        "\n",
        "  def __getitem__(self, idx):\n",
        "    item = {key: torch.tensor(val[idx]) for key, val in self.encodings.items()}\n",
        "    item['labels'] = torch.tensor(self.labels[idx])\n",
        "    return item\n",
        "\n",
        "  def __len__(self):\n",
        "    return len(self.labels)\n",
        "\n",
        "train_encodings.pop(\"offset_mapping\") # we don't want to pass this to the model\n",
        "val_encodings.pop(\"offset_mapping\")\n",
        "train_dataset = WNUTDataset(train_encodings, train_labels)\n",
        "val_dataset = WNUTDataset(val_encodings, val_labels)"
      ],
      "execution_count": 13,
      "outputs": []
    },
    {
      "cell_type": "code",
      "metadata": {
        "id": "PQnsykU4cpmI",
        "colab": {
          "base_uri": "https://localhost:8080/",
          "height": 220,
          "referenced_widgets": [
            "6f640b92b62148928217ff091a20f40d",
            "0437a94f07a94bdd8d661da2f327ddc8",
            "09253ae3232f4bc7b2e0887362c94ead",
            "c5cb23e31a3c4b0b81e7f56f825332dd",
            "fc0d746457a84417b2ab812175df9583",
            "d08c3b10df4143af950330c2d7d95446",
            "e7d71be8b2bf4040a8f18682a1b75bb9",
            "628e8669b6d34811801fb9d5bfa7be10",
            "6dd86a814d4c4defb7623a9fd1b56c8f",
            "141b8791d48944c28848c3c65a8c8ed5",
            "4f5758567008467592690d2e31b7ae0e",
            "7c38cc89e2834fc4ad07f5af03ffa8eb",
            "1ca5719916f1433aa191221e8a7af2cf",
            "f385a5fec7ef479dbece067a4b90ca54",
            "5c6fcd3de0bf485fb745ea2bea0a74f4",
            "51c1fc6670014eb984a21893ebb424f1"
          ]
        },
        "outputId": "39170de4-8338-4d65-c71e-0c00de75ed31"
      },
      "source": [
        "from transformers import DistilBertForTokenClassification, Trainer, TrainingArguments\n",
        "\n",
        "model = DistilBertForTokenClassification.from_pretrained('distilbert-base-cased', num_labels=len(unique_tags))"
      ],
      "execution_count": 14,
      "outputs": [
        {
          "output_type": "display_data",
          "data": {
            "application/vnd.jupyter.widget-view+json": {
              "model_id": "6f640b92b62148928217ff091a20f40d",
              "version_minor": 0,
              "version_major": 2
            },
            "text/plain": [
              "HBox(children=(FloatProgress(value=0.0, description='Downloading', max=411.0, style=ProgressStyle(description_…"
            ]
          },
          "metadata": {
            "tags": []
          }
        },
        {
          "output_type": "stream",
          "text": [
            "\n"
          ],
          "name": "stdout"
        },
        {
          "output_type": "display_data",
          "data": {
            "application/vnd.jupyter.widget-view+json": {
              "model_id": "6dd86a814d4c4defb7623a9fd1b56c8f",
              "version_minor": 0,
              "version_major": 2
            },
            "text/plain": [
              "HBox(children=(FloatProgress(value=0.0, description='Downloading', max=263273408.0, style=ProgressStyle(descri…"
            ]
          },
          "metadata": {
            "tags": []
          }
        },
        {
          "output_type": "stream",
          "text": [
            "\n"
          ],
          "name": "stdout"
        },
        {
          "output_type": "stream",
          "text": [
            "Some weights of the model checkpoint at distilbert-base-cased were not used when initializing DistilBertForTokenClassification: ['vocab_projector.weight', 'vocab_layer_norm.weight', 'vocab_projector.bias', 'vocab_transform.bias', 'vocab_layer_norm.bias', 'vocab_transform.weight']\n",
            "- This IS expected if you are initializing DistilBertForTokenClassification from the checkpoint of a model trained on another task or with another architecture (e.g. initializing a BertForSequenceClassification model from a BertForPreTraining model).\n",
            "- This IS NOT expected if you are initializing DistilBertForTokenClassification from the checkpoint of a model that you expect to be exactly identical (initializing a BertForSequenceClassification model from a BertForSequenceClassification model).\n",
            "Some weights of DistilBertForTokenClassification were not initialized from the model checkpoint at distilbert-base-cased and are newly initialized: ['classifier.weight', 'classifier.bias']\n",
            "You should probably TRAIN this model on a down-stream task to be able to use it for predictions and inference.\n"
          ],
          "name": "stderr"
        }
      ]
    },
    {
      "cell_type": "code",
      "metadata": {
        "id": "9YseNpZLc3a8"
      },
      "source": [
        "training_args = TrainingArguments(\n",
        "  output_dir='./results',          # output directory\n",
        "  num_train_epochs=3,              # total number of training epochs\n",
        "  per_device_train_batch_size=16,  # batch size per device during training\n",
        "  per_device_eval_batch_size=64,   # batch size for evaluation\n",
        "  warmup_steps=500,                # number of warmup steps for learning rate scheduler\n",
        "  weight_decay=0.0001,               # strength of weight decay\n",
        "  logging_dir='./logs',            # directory for storing logs\n",
        "  logging_steps=10,\n",
        "  evaluation_strategy='epoch'\n",
        ")\n",
        "\n",
        "# In case we want to freeze the pretrained part of a model:\n",
        "# for param in model.base_model.parameters():\n",
        "#     param.requires_grad = False"
      ],
      "execution_count": 15,
      "outputs": []
    },
    {
      "cell_type": "code",
      "metadata": {
        "id": "QUmdID1Vc_ht",
        "colab": {
          "base_uri": "https://localhost:8080/",
          "height": 613
        },
        "outputId": "c42f44b5-b9d1-44e5-d495-c96e4bcb827e"
      },
      "source": [
        "trainer = Trainer(\n",
        "  model=model,                         # the instantiated 🤗 Transformers model to be trained\n",
        "  args=training_args,                  # training arguments, defined above\n",
        "  train_dataset=train_dataset,         # training dataset\n",
        "  eval_dataset=val_dataset             # evaluation dataset\n",
        ")\n",
        "\n",
        "trainer.train()"
      ],
      "execution_count": 16,
      "outputs": [
        {
          "output_type": "stream",
          "text": [
            "***** Running training *****\n",
            "  Num examples = 2715\n",
            "  Num Epochs = 3\n",
            "  Instantaneous batch size per device = 16\n",
            "  Total train batch size (w. parallel, distributed & accumulation) = 16\n",
            "  Gradient Accumulation steps = 1\n",
            "  Total optimization steps = 510\n"
          ],
          "name": "stderr"
        },
        {
          "output_type": "display_data",
          "data": {
            "text/html": [
              "\n",
              "    <div>\n",
              "      \n",
              "      <progress value='510' max='510' style='width:300px; height:20px; vertical-align: middle;'></progress>\n",
              "      [510/510 01:16, Epoch 3/3]\n",
              "    </div>\n",
              "    <table border=\"1\" class=\"dataframe\">\n",
              "  <thead>\n",
              "    <tr style=\"text-align: left;\">\n",
              "      <th>Epoch</th>\n",
              "      <th>Training Loss</th>\n",
              "      <th>Validation Loss</th>\n",
              "    </tr>\n",
              "  </thead>\n",
              "  <tbody>\n",
              "    <tr>\n",
              "      <td>1</td>\n",
              "      <td>0.181500</td>\n",
              "      <td>0.219885</td>\n",
              "    </tr>\n",
              "    <tr>\n",
              "      <td>2</td>\n",
              "      <td>0.186100</td>\n",
              "      <td>0.155579</td>\n",
              "    </tr>\n",
              "    <tr>\n",
              "      <td>3</td>\n",
              "      <td>0.103600</td>\n",
              "      <td>0.147529</td>\n",
              "    </tr>\n",
              "  </tbody>\n",
              "</table><p>"
            ],
            "text/plain": [
              "<IPython.core.display.HTML object>"
            ]
          },
          "metadata": {
            "tags": []
          }
        },
        {
          "output_type": "stream",
          "text": [
            "***** Running Evaluation *****\n",
            "  Num examples = 679\n",
            "  Batch size = 64\n",
            "***** Running Evaluation *****\n",
            "  Num examples = 679\n",
            "  Batch size = 64\n",
            "Saving model checkpoint to ./results/checkpoint-500\n",
            "Configuration saved in ./results/checkpoint-500/config.json\n",
            "Model weights saved in ./results/checkpoint-500/pytorch_model.bin\n",
            "***** Running Evaluation *****\n",
            "  Num examples = 679\n",
            "  Batch size = 64\n",
            "\n",
            "\n",
            "Training completed. Do not forget to share your model on huggingface.co/models =)\n",
            "\n",
            "\n"
          ],
          "name": "stderr"
        },
        {
          "output_type": "execute_result",
          "data": {
            "text/plain": [
              "TrainOutput(global_step=510, training_loss=0.400557611619725, metrics={'train_runtime': 76.4641, 'train_samples_per_second': 106.521, 'train_steps_per_second': 6.67, 'total_flos': 286773158054700.0, 'train_loss': 0.400557611619725, 'epoch': 3.0})"
            ]
          },
          "metadata": {
            "tags": []
          },
          "execution_count": 16
        }
      ]
    },
    {
      "cell_type": "code",
      "metadata": {
        "id": "hw6-IjI0fFQA"
      },
      "source": [
        "model.eval()\n",
        "from torch.nn import functional as F"
      ],
      "execution_count": 17,
      "outputs": []
    },
    {
      "cell_type": "code",
      "metadata": {
        "colab": {
          "base_uri": "https://localhost:8080/"
        },
        "id": "VvSFAgiIe2Eu",
        "outputId": "b01ece0e-cef4-470e-a338-9de7f91ca251"
      },
      "source": [
        "# example = 'Microsoft moved its headquarters from Bellevue to Redmond, Washington, on February 26, 1986, and went public on March 13.'\n",
        "# example = 'Microsoft released Microsoft Windows on November 20, 1985, as a graphical extension for MS-DOS'\n",
        "# example = 'Huggingface is the best company.'\n",
        "# example = 'Apple Inc. is an American multinational technology company that specializes in consumer electronics, computer software, and online services.'\n",
        "# example = 'Apple has expanded its campuses in Austin, Texas, concurrently with building Apple Park in Cupertino.'\n",
        "example = 'Hugging Face Inc. is a company based in New York City. Its headquarters are in DUMBO, therefore very close to the Manhattan Bridge which is visible from the window.'\n",
        "\n",
        "device = \"cuda:0\"\n",
        "with torch.no_grad():\n",
        "  inputs = tokenizer(example, return_tensors=\"pt\").to(device)\n",
        "  outputs = model(**inputs)\n",
        "  softmax = F.softmax(outputs[0][0], dim = 1)\n",
        "  indices = [x.argmax().item() for x in softmax]\n",
        "  input_list = inputs['input_ids'].tolist()[0]\n",
        "  # print(outputs[0][0])\n",
        "  # print(softmax)\n",
        "  print('tags:', id2tag)\n",
        "  print('pred_ids:', indices)\n",
        "  print('input_tokens', input_list)\n",
        "  # print(inputs['input_ids'].tolist()[0])\n",
        "\n",
        "  word2tokens = {x : tokenizer.encode(x, add_special_tokens=False) for x in example.split()}\n",
        "\n",
        "  # print(word2tokens)\n",
        "  # print(tokenizer.decode(101))\n",
        "\n",
        "  for i in range(len(indices)):\n",
        "    print('token: ', input_list[i], '\\ttag: ', id2tag[indices[i]], '  ', 'entity: ', tokenizer.decode(input_list[i]))"
      ],
      "execution_count": 80,
      "outputs": [
        {
          "output_type": "stream",
          "text": [
            "tags: {0: 'B-location', 1: 'B-corporation', 2: 'B-product', 3: 'I-creative-work', 4: 'B-person', 5: 'I-product', 6: 'I-location', 7: 'O', 8: 'I-corporation', 9: 'I-group', 10: 'B-creative-work', 11: 'I-person', 12: 'B-group'}\n",
            "pred_ids: [7, 7, 7, 7, 7, 7, 7, 7, 7, 7, 7, 0, 6, 6, 7, 7, 7, 7, 7, 0, 6, 6, 7, 7, 7, 7, 7, 7, 0, 6, 7, 7, 7, 7, 7, 7, 7, 7]\n",
            "input_tokens [101, 20164, 10932, 10289, 3561, 119, 1110, 170, 1419, 1359, 1107, 1203, 1365, 1392, 119, 2098, 3834, 1132, 1107, 141, 25810, 23904, 117, 3335, 1304, 1601, 1106, 1103, 6545, 3640, 1134, 1110, 5085, 1121, 1103, 2487, 119, 102]\n",
            "token:  101 \ttag:  O    entity:  [CLS]\n",
            "token:  20164 \ttag:  O    entity:  Hu\n",
            "token:  10932 \ttag:  O    entity:  ##gging\n",
            "token:  10289 \ttag:  O    entity:  Face\n",
            "token:  3561 \ttag:  O    entity:  Inc\n",
            "token:  119 \ttag:  O    entity:  .\n",
            "token:  1110 \ttag:  O    entity:  is\n",
            "token:  170 \ttag:  O    entity:  a\n",
            "token:  1419 \ttag:  O    entity:  company\n",
            "token:  1359 \ttag:  O    entity:  based\n",
            "token:  1107 \ttag:  O    entity:  in\n",
            "token:  1203 \ttag:  B-location    entity:  New\n",
            "token:  1365 \ttag:  I-location    entity:  York\n",
            "token:  1392 \ttag:  I-location    entity:  City\n",
            "token:  119 \ttag:  O    entity:  .\n",
            "token:  2098 \ttag:  O    entity:  Its\n",
            "token:  3834 \ttag:  O    entity:  headquarters\n",
            "token:  1132 \ttag:  O    entity:  are\n",
            "token:  1107 \ttag:  O    entity:  in\n",
            "token:  141 \ttag:  B-location    entity:  D\n",
            "token:  25810 \ttag:  I-location    entity:  ##UM\n",
            "token:  23904 \ttag:  I-location    entity:  ##BO\n",
            "token:  117 \ttag:  O    entity:  ,\n",
            "token:  3335 \ttag:  O    entity:  therefore\n",
            "token:  1304 \ttag:  O    entity:  very\n",
            "token:  1601 \ttag:  O    entity:  close\n",
            "token:  1106 \ttag:  O    entity:  to\n",
            "token:  1103 \ttag:  O    entity:  the\n",
            "token:  6545 \ttag:  B-location    entity:  Manhattan\n",
            "token:  3640 \ttag:  I-location    entity:  Bridge\n",
            "token:  1134 \ttag:  O    entity:  which\n",
            "token:  1110 \ttag:  O    entity:  is\n",
            "token:  5085 \ttag:  O    entity:  visible\n",
            "token:  1121 \ttag:  O    entity:  from\n",
            "token:  1103 \ttag:  O    entity:  the\n",
            "token:  2487 \ttag:  O    entity:  window\n",
            "token:  119 \ttag:  O    entity:  .\n",
            "token:  102 \ttag:  O    entity:  [SEP]\n"
          ],
          "name": "stdout"
        }
      ]
    },
    {
      "cell_type": "code",
      "metadata": {
        "id": "0YhMgve2h14Z",
        "colab": {
          "base_uri": "https://localhost:8080/"
        },
        "outputId": "972527c7-94db-42c8-e801-d4df9f8832d1"
      },
      "source": [
        "inputs"
      ],
      "execution_count": 81,
      "outputs": [
        {
          "output_type": "execute_result",
          "data": {
            "text/plain": [
              "{'input_ids': tensor([[  101, 20164, 10932, 10289,  3561,   119,  1110,   170,  1419,  1359,\n",
              "          1107,  1203,  1365,  1392,   119,  2098,  3834,  1132,  1107,   141,\n",
              "         25810, 23904,   117,  3335,  1304,  1601,  1106,  1103,  6545,  3640,\n",
              "          1134,  1110,  5085,  1121,  1103,  2487,   119,   102]],\n",
              "       device='cuda:0'), 'attention_mask': tensor([[1, 1, 1, 1, 1, 1, 1, 1, 1, 1, 1, 1, 1, 1, 1, 1, 1, 1, 1, 1, 1, 1, 1, 1,\n",
              "         1, 1, 1, 1, 1, 1, 1, 1, 1, 1, 1, 1, 1, 1]], device='cuda:0')}"
            ]
          },
          "metadata": {
            "tags": []
          },
          "execution_count": 81
        }
      ]
    },
    {
      "cell_type": "code",
      "metadata": {
        "colab": {
          "base_uri": "https://localhost:8080/",
          "height": 52
        },
        "id": "fBMjXE9aT4vL",
        "outputId": "04395369-1791-44ba-dbbf-66fdd5bf1b0c"
      },
      "source": [
        "example"
      ],
      "execution_count": 82,
      "outputs": [
        {
          "output_type": "execute_result",
          "data": {
            "application/vnd.google.colaboratory.intrinsic+json": {
              "type": "string"
            },
            "text/plain": [
              "'Hugging Face Inc. is a company based in New York City. Its headquarters are in DUMBO, therefore very close to the Manhattan Bridge which is visible from the window.'"
            ]
          },
          "metadata": {
            "tags": []
          },
          "execution_count": 82
        }
      ]
    },
    {
      "cell_type": "code",
      "metadata": {
        "colab": {
          "base_uri": "https://localhost:8080/"
        },
        "id": "VCmTCB4eQjS-",
        "outputId": "511c1670-7058-4aaf-9455-c231b47feb99"
      },
      "source": [
        "from transformers import pipeline\n",
        "\n",
        "ner = pipeline(\"ner\", model=model, tokenizer=tokenizer, aggregation_strategy='max', device=0)\n",
        "\n",
        "res = ner(example)\n",
        "print(res)\n",
        "\n",
        "for e in res:\n",
        "  lbl = id2tag[int(e['entity_group'].split('_')[1])]\n",
        "  print(e['start'], '\\t', e['end'], '\\t', e['score'], '\\t',  lbl, '\\t', e['word'])"
      ],
      "execution_count": 83,
      "outputs": [
        {
          "output_type": "stream",
          "text": [
            "[{'entity_group': 'LABEL_7', 'score': 0.5328488, 'word': 'Hugging', 'start': 0, 'end': 7}, {'entity_group': 'LABEL_7', 'score': 0.37571302, 'word': 'Face', 'start': 8, 'end': 12}, {'entity_group': 'LABEL_7', 'score': 0.37856364, 'word': 'Inc', 'start': 13, 'end': 16}, {'entity_group': 'LABEL_7', 'score': 0.6330844, 'word': '.', 'start': 16, 'end': 17}, {'entity_group': 'LABEL_7', 'score': 0.9349889, 'word': 'is', 'start': 18, 'end': 20}, {'entity_group': 'LABEL_7', 'score': 0.93747663, 'word': 'a', 'start': 21, 'end': 22}, {'entity_group': 'LABEL_7', 'score': 0.92972744, 'word': 'company', 'start': 23, 'end': 30}, {'entity_group': 'LABEL_7', 'score': 0.94977075, 'word': 'based', 'start': 31, 'end': 36}, {'entity_group': 'LABEL_7', 'score': 0.92869526, 'word': 'in', 'start': 37, 'end': 39}, {'entity_group': 'LABEL_0', 'score': 0.97096074, 'word': 'New', 'start': 40, 'end': 43}, {'entity_group': 'LABEL_6', 'score': 0.94642496, 'word': 'York', 'start': 44, 'end': 48}, {'entity_group': 'LABEL_6', 'score': 0.95901585, 'word': 'City', 'start': 49, 'end': 53}, {'entity_group': 'LABEL_7', 'score': 0.9895925, 'word': '.', 'start': 53, 'end': 54}, {'entity_group': 'LABEL_7', 'score': 0.9474311, 'word': 'Its', 'start': 55, 'end': 58}, {'entity_group': 'LABEL_7', 'score': 0.9650535, 'word': 'headquarters', 'start': 59, 'end': 71}, {'entity_group': 'LABEL_7', 'score': 0.9856978, 'word': 'are', 'start': 72, 'end': 75}, {'entity_group': 'LABEL_7', 'score': 0.94624615, 'word': 'in', 'start': 76, 'end': 78}, {'entity_group': 'LABEL_0', 'score': 0.964317, 'word': 'DUMBO', 'start': 79, 'end': 84}, {'entity_group': 'LABEL_7', 'score': 0.98705935, 'word': ',', 'start': 84, 'end': 85}, {'entity_group': 'LABEL_7', 'score': 0.9901275, 'word': 'therefore', 'start': 86, 'end': 95}, {'entity_group': 'LABEL_7', 'score': 0.99809974, 'word': 'very', 'start': 96, 'end': 100}, {'entity_group': 'LABEL_7', 'score': 0.99486846, 'word': 'close', 'start': 101, 'end': 106}, {'entity_group': 'LABEL_7', 'score': 0.996932, 'word': 'to', 'start': 107, 'end': 109}, {'entity_group': 'LABEL_7', 'score': 0.96369636, 'word': 'the', 'start': 110, 'end': 113}, {'entity_group': 'LABEL_0', 'score': 0.9260387, 'word': 'Manhattan', 'start': 114, 'end': 123}, {'entity_group': 'LABEL_6', 'score': 0.9100771, 'word': 'Bridge', 'start': 124, 'end': 130}, {'entity_group': 'LABEL_7', 'score': 0.9914809, 'word': 'which', 'start': 131, 'end': 136}, {'entity_group': 'LABEL_7', 'score': 0.9973177, 'word': 'is', 'start': 137, 'end': 139}, {'entity_group': 'LABEL_7', 'score': 0.9967112, 'word': 'visible', 'start': 140, 'end': 147}, {'entity_group': 'LABEL_7', 'score': 0.99781585, 'word': 'from', 'start': 148, 'end': 152}, {'entity_group': 'LABEL_7', 'score': 0.99799067, 'word': 'the', 'start': 153, 'end': 156}, {'entity_group': 'LABEL_7', 'score': 0.9966465, 'word': 'window', 'start': 157, 'end': 163}, {'entity_group': 'LABEL_7', 'score': 0.98525167, 'word': '.', 'start': 163, 'end': 164}]\n",
            "0 \t 7 \t 0.5328488 \t O \t Hugging\n",
            "8 \t 12 \t 0.37571302 \t O \t Face\n",
            "13 \t 16 \t 0.37856364 \t O \t Inc\n",
            "16 \t 17 \t 0.6330844 \t O \t .\n",
            "18 \t 20 \t 0.9349889 \t O \t is\n",
            "21 \t 22 \t 0.93747663 \t O \t a\n",
            "23 \t 30 \t 0.92972744 \t O \t company\n",
            "31 \t 36 \t 0.94977075 \t O \t based\n",
            "37 \t 39 \t 0.92869526 \t O \t in\n",
            "40 \t 43 \t 0.97096074 \t B-location \t New\n",
            "44 \t 48 \t 0.94642496 \t I-location \t York\n",
            "49 \t 53 \t 0.95901585 \t I-location \t City\n",
            "53 \t 54 \t 0.9895925 \t O \t .\n",
            "55 \t 58 \t 0.9474311 \t O \t Its\n",
            "59 \t 71 \t 0.9650535 \t O \t headquarters\n",
            "72 \t 75 \t 0.9856978 \t O \t are\n",
            "76 \t 78 \t 0.94624615 \t O \t in\n",
            "79 \t 84 \t 0.964317 \t B-location \t DUMBO\n",
            "84 \t 85 \t 0.98705935 \t O \t ,\n",
            "86 \t 95 \t 0.9901275 \t O \t therefore\n",
            "96 \t 100 \t 0.99809974 \t O \t very\n",
            "101 \t 106 \t 0.99486846 \t O \t close\n",
            "107 \t 109 \t 0.996932 \t O \t to\n",
            "110 \t 113 \t 0.96369636 \t O \t the\n",
            "114 \t 123 \t 0.9260387 \t B-location \t Manhattan\n",
            "124 \t 130 \t 0.9100771 \t I-location \t Bridge\n",
            "131 \t 136 \t 0.9914809 \t O \t which\n",
            "137 \t 139 \t 0.9973177 \t O \t is\n",
            "140 \t 147 \t 0.9967112 \t O \t visible\n",
            "148 \t 152 \t 0.99781585 \t O \t from\n",
            "153 \t 156 \t 0.99799067 \t O \t the\n",
            "157 \t 163 \t 0.9966465 \t O \t window\n",
            "163 \t 164 \t 0.98525167 \t O \t .\n"
          ],
          "name": "stdout"
        }
      ]
    },
    {
      "cell_type": "code",
      "metadata": {
        "colab": {
          "base_uri": "https://localhost:8080/"
        },
        "id": "vsiORInAd1V2",
        "outputId": "8e2f8585-dc23-4921-95eb-73951237f7a7"
      },
      "source": [
        "for e in res:\n",
        "  lbl = id2tag[int(e['entity_group'].split('_')[1])]\n",
        "  del e['entity_group']\n",
        "  e['entity'] = lbl\n",
        "res = ner.group_entities(res)\n",
        "for e in res:\n",
        "  print(e)"
      ],
      "execution_count": 84,
      "outputs": [
        {
          "output_type": "stream",
          "text": [
            "{'entity_group': 'O', 'score': 0.5328488, 'word': 'Hugging', 'start': 0, 'end': 7}\n",
            "{'entity_group': 'O', 'score': 0.37571302, 'word': 'Face', 'start': 8, 'end': 12}\n",
            "{'entity_group': 'O', 'score': 0.37856364, 'word': 'Inc', 'start': 13, 'end': 16}\n",
            "{'entity_group': 'O', 'score': 0.6330844, 'word': '.', 'start': 16, 'end': 17}\n",
            "{'entity_group': 'O', 'score': 0.9349889, 'word': 'is', 'start': 18, 'end': 20}\n",
            "{'entity_group': 'O', 'score': 0.93747663, 'word': 'a', 'start': 21, 'end': 22}\n",
            "{'entity_group': 'O', 'score': 0.92972744, 'word': 'company', 'start': 23, 'end': 30}\n",
            "{'entity_group': 'O', 'score': 0.94977075, 'word': 'based', 'start': 31, 'end': 36}\n",
            "{'entity_group': 'O', 'score': 0.92869526, 'word': 'in', 'start': 37, 'end': 39}\n",
            "{'entity_group': 'location', 'score': 0.9588005, 'word': 'New York City', 'start': 40, 'end': 53}\n",
            "{'entity_group': 'O', 'score': 0.9895925, 'word': '.', 'start': 53, 'end': 54}\n",
            "{'entity_group': 'O', 'score': 0.9474311, 'word': 'Its', 'start': 55, 'end': 58}\n",
            "{'entity_group': 'O', 'score': 0.9650535, 'word': 'headquarters', 'start': 59, 'end': 71}\n",
            "{'entity_group': 'O', 'score': 0.9856978, 'word': 'are', 'start': 72, 'end': 75}\n",
            "{'entity_group': 'O', 'score': 0.94624615, 'word': 'in', 'start': 76, 'end': 78}\n",
            "{'entity_group': 'location', 'score': 0.964317, 'word': 'DUMBO', 'start': 79, 'end': 84}\n",
            "{'entity_group': 'O', 'score': 0.98705935, 'word': ',', 'start': 84, 'end': 85}\n",
            "{'entity_group': 'O', 'score': 0.9901275, 'word': 'therefore', 'start': 86, 'end': 95}\n",
            "{'entity_group': 'O', 'score': 0.99809974, 'word': 'very', 'start': 96, 'end': 100}\n",
            "{'entity_group': 'O', 'score': 0.99486846, 'word': 'close', 'start': 101, 'end': 106}\n",
            "{'entity_group': 'O', 'score': 0.996932, 'word': 'to', 'start': 107, 'end': 109}\n",
            "{'entity_group': 'O', 'score': 0.96369636, 'word': 'the', 'start': 110, 'end': 113}\n",
            "{'entity_group': 'location', 'score': 0.9180579, 'word': 'Manhattan Bridge', 'start': 114, 'end': 130}\n",
            "{'entity_group': 'O', 'score': 0.9914809, 'word': 'which', 'start': 131, 'end': 136}\n",
            "{'entity_group': 'O', 'score': 0.9973177, 'word': 'is', 'start': 137, 'end': 139}\n",
            "{'entity_group': 'O', 'score': 0.9967112, 'word': 'visible', 'start': 140, 'end': 147}\n",
            "{'entity_group': 'O', 'score': 0.99781585, 'word': 'from', 'start': 148, 'end': 152}\n",
            "{'entity_group': 'O', 'score': 0.99799067, 'word': 'the', 'start': 153, 'end': 156}\n",
            "{'entity_group': 'O', 'score': 0.9966465, 'word': 'window', 'start': 157, 'end': 163}\n",
            "{'entity_group': 'O', 'score': 0.98525167, 'word': '.', 'start': 163, 'end': 164}\n"
          ],
          "name": "stdout"
        }
      ]
    }
  ]
}